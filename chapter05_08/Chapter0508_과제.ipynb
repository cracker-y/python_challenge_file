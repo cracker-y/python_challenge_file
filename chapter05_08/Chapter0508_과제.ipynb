{
  "cells": [
    {
      "cell_type": "markdown",
      "metadata": {
        "id": "WXEwMsfUct7U"
      },
      "source": [
        "안녕하세요.<br><br>\n",
        "수강생 여러분~! Chapter05 ~ 08 수업은 잘 들으셨나요?\n",
        "\n",
        "Chapter05 ~ 08의 수업 내용을 바탕으로 아래 문제를 풀어주시면 됩니다.\n",
        "\n",
        "<br>\n",
        "\n",
        "\n",
        "[**답변 입력 방법**]\n",
        "\n",
        "문제 아래에 있는 코드 입력창에 정답코드를 작성하신 후  __▷ 버튼을 클릭해 코드를 실행__ 해보세요<br>"
      ]
    },
    {
      "cell_type": "markdown",
      "metadata": {
        "id": "qoyC9wF-3hvs"
      },
      "source": [
        "-----"
      ]
    },
    {
      "cell_type": "markdown",
      "metadata": {
        "id": "3dv5NSLTuaWJ"
      },
      "source": [
        "__[문제0]__\n",
        "<br>\n",
        "\n",
        "##### 이전 과제에서 \"도전! 신비의 섬 탐험\" 을 변수를 이용해서 다시 풀어보세요 !!!!!\n",
        "\n"
      ]
    },
    {
      "cell_type": "markdown",
      "metadata": {
        "id": "rAD_O3Gmc_43"
      },
      "source": [
        "__[문제1]__\n",
        "\n",
        "<br>\n",
        "변수명 게임에 들어 있는 값 중 '홀'만 출력되도록 코드를 작성해 주세요\n",
        "\n",
        "game = \"홀짝홀짝홀짝\"\n",
        "\n",
        "출력 예시 : \"홀홀홀\"\n"
      ]
    },
    {
      "cell_type": "markdown",
      "metadata": {
        "id": "mW0k7ITSuaWK"
      },
      "source": [
        "__Tips__\n",
        "- 문자열 슬라이싱을 이용해보세요 !"
      ]
    },
    {
      "cell_type": "code",
      "execution_count": 1,
      "metadata": {
        "id": "74wtVQFFc_h1",
        "colab": {
          "base_uri": "https://localhost:8080/",
          "height": 0
        },
        "outputId": "defc0379-158c-4f8b-9377-06e1c35789ab"
      },
      "outputs": [
        {
          "output_type": "stream",
          "name": "stdout",
          "text": [
            "홀홀홀\n"
          ]
        }
      ],
      "source": [
        "game = \"홀짝홀짝홀짝\"\n",
        "\n",
        "print(f'{game[::2]}')"
      ]
    },
    {
      "cell_type": "markdown",
      "metadata": {
        "id": "h8iShAmEuaWK"
      },
      "source": [
        "---"
      ]
    },
    {
      "cell_type": "markdown",
      "metadata": {
        "id": "3uK_auXYdgk2"
      },
      "source": [
        "__[문제2]__\n",
        "\n",
        "<br>\n",
        "\n",
        "변수명 전화번호에 들어 있는 번호를 모두 붙여서 출력되도록 코드를 작성해주세요.\n",
        "\n",
        "<br>\n",
        "\n",
        "phone = \"010-1234-5678\"\n",
        "\n",
        "출력 예시 : \"01012345678\""
      ]
    },
    {
      "cell_type": "markdown",
      "metadata": {
        "id": "BKXfFGNSuaWL"
      },
      "source": [
        "__Tips__\n",
        "- split() 함수는 문자열을 특정 구분자를 기준으로 나누어 리스트로 반환합니다."
      ]
    },
    {
      "cell_type": "code",
      "execution_count": 5,
      "metadata": {
        "id": "9kvBxa6PdhgA",
        "colab": {
          "base_uri": "https://localhost:8080/",
          "height": 0
        },
        "outputId": "88c49880-7df9-435d-affd-6acd79ce3301"
      },
      "outputs": [
        {
          "output_type": "stream",
          "name": "stdout",
          "text": [
            "출력 결과: 01012345678\n"
          ]
        }
      ],
      "source": [
        "phone = \"010-1234-5678\"\n",
        "\n",
        "# split 구분\n",
        "phoneNumberSplit = phone.split('-', 2)\n",
        "\n",
        "print(f'출력 결과: {phoneNumberSplit[0]}{phoneNumberSplit[1]}{phoneNumberSplit[2]}')"
      ]
    },
    {
      "cell_type": "markdown",
      "metadata": {
        "id": "TQFx5Lt7uaWL"
      },
      "source": [
        "----"
      ]
    },
    {
      "cell_type": "markdown",
      "metadata": {
        "id": "zXRILCthuaWL"
      },
      "source": [
        "<br>\n",
        "\n",
        "__[문제3]__\n",
        "\n",
        "<br>\n",
        "\n",
        "오즈 코딩 스쿨 백엔드 8기 과정에 참여한 수강생 중 5명의 수강생이 자율적으로 스터디 그룹을 결성했습니다.\n",
        "\n",
        "스터디 그룹 내에는 한 주간 배운 내용으로 매주 쪽지 시험을 보는 룰이 있습니다.\n",
        "\n",
        "이 쪽지 시험의 평균이 70점이 넘으면 주말 스터디는 없습니다.\n",
        "\n",
        "주말 스터디의 여부를 True 또는 False로 출력해주세요.\n",
        "\n",
        "<br>\n",
        "A: 70, B: 75, C: 50, D: 80, E: 60\n",
        "\n",
        "<br>"
      ]
    },
    {
      "cell_type": "code",
      "execution_count": 4,
      "metadata": {
        "colab": {
          "base_uri": "https://localhost:8080/",
          "height": 0
        },
        "id": "bvZSZsfWuaWL",
        "outputId": "6b0a5935-2bd5-46e6-bec6-bd59b4278530"
      },
      "outputs": [
        {
          "output_type": "stream",
          "name": "stdout",
          "text": [
            "커트라인 점수 = 70\n",
            "스터디 평균점수 = 67.0\n",
            "주말 스터디 결과는!! False\n"
          ]
        }
      ],
      "source": [
        "# 학생마다 점수\n",
        "a, b, c, d, e = 70, 75, 50, 80, 60;\n",
        "# 점수 평균값\n",
        "averageScore = (a + b + c + d + e) / 5;\n",
        "# 커트라인 점수\n",
        "cutoffScore = 70;\n",
        "result = averageScore >= cutoffScore;\n",
        "print(f'커트라인 점수 = {cutoffScore}')\n",
        "print(f'스터디 평균점수 = {averageScore}');\n",
        "print(f'주말 스터디 결과는!! {result}');"
      ]
    },
    {
      "cell_type": "markdown",
      "metadata": {
        "id": "2Jte2VLKdiPm"
      },
      "source": [
        "__[문제4]__\n",
        "\n",
        "<br>\n",
        "\n",
        "창의성, 시장성, 안정성, 수익성에 대한 각각의 평가 중 아래 기준에 부합하지 못하면 창업지원을 받을 수 없습니다.\n",
        "\n",
        "- 수익성 60점 이상\n",
        "- 창의성과 시장성 50점 이상\n",
        "- 시장성과 수익성을 더한 값의 절반이 안정성 보다 높아야 함\n",
        "\n",
        "\n",
        "다음 점수가 입력되었을때 창업 지원이 가능한지 여부를 True 또는 False로 출력해주세요.\n",
        "\n",
        "---\n",
        "\n",
        "창의성 : 62\n",
        "시장성 : 71\n",
        "안정성 : 68\n",
        "수익성 : 66\n",
        "<br>\n",
        "\n",
        "* 참고\n",
        "(creativity ,\n",
        "marketability ,\n",
        "stability ,\n",
        "profitability )"
      ]
    },
    {
      "cell_type": "markdown",
      "metadata": {
        "id": "ee483xHFuaWL"
      },
      "source": [
        "__Tips__\n",
        "* 비교 연산자와 논리 연산자의 결과를 고려해보아요"
      ]
    },
    {
      "cell_type": "code",
      "execution_count": 14,
      "metadata": {
        "id": "XJhvRO-2djBh",
        "colab": {
          "base_uri": "https://localhost:8080/"
        },
        "outputId": "e4085ec4-aa9c-4601-cfad-5a357e1c755a"
      },
      "outputs": [
        {
          "output_type": "stream",
          "name": "stdout",
          "text": [
            "창의성: \"62 > 50\", 시장성: \"71 > 50\"\n",
            "수익성: \"66 > 60\"\n",
            "시장성과 수익성 더한 값의 절반의 값: \"68.5\"\n",
            "안정성: \"(68.5) > 68\"\n",
            "수익성 확인: \"True\", 창의성과 시장성이 50점 이상: \"True\", 시장성과 수익성을 더한 값의 절반이 안정성보다 이상: \"True\"\n",
            "창업 지원 결과!! : \"True\"\n"
          ]
        }
      ],
      "source": [
        "# 수익성, 창의성, 시장성 커트라인\n",
        "cutoffLineProfitability, cutoffLineCreativity , cutoffLineMarketability = 60, 50, 50;\n",
        "\n",
        "# 창업 지원자의 점수 (창의성, 시장성, 안정성, 수익성)\n",
        "creativity , marketability , stability , profitability = 62, 71, 68, 66;\n",
        "\n",
        "# 시장성과 수익성을 더한 값의 절반의 값\n",
        "marketabilityAndProfitability = (marketability + profitability) / 2;\n",
        "\n",
        "# 수익성 확인\n",
        "profitabilityBool = profitability >= cutoffLineProfitability;\n",
        "\n",
        "# 창의성과 시장성이 50점 이상 확인\n",
        "creativityAndMarketabilityBool = (creativity >= cutoffLineCreativity) and (marketability >= cutoffLineMarketability);\n",
        "\n",
        "# 시장성과 수익성을 더한 값의 절반이 안정성보다 높은지 확인\n",
        "stabilityBool = marketabilityAndProfitability > stability;\n",
        "\n",
        "# 창업 지원이 가능한지 여부\n",
        "isPass = profitabilityBool and creativityAndMarketabilityBool and stabilityBool;\n",
        "\n",
        "# 점수 확인!\n",
        "print(f'창의성: \\\"{creativity} > {cutoffLineCreativity}\\\", 시장성: \\\"{marketability} > {cutoffLineMarketability}\\\"');\n",
        "print(f'수익성: \\\"{profitability} > {cutoffLineProfitability}\\\"');\n",
        "print(f'시장성과 수익성 더한 값의 절반의 값: \\\"{(marketability + profitability) / 2}\\\"');\n",
        "print(f'안정성: \\\"({marketabilityAndProfitability}) > {stability}\\\"');\n",
        "\n",
        "# 각각의 커트라인 결과 확인\n",
        "print(f'수익성 확인: \\\"{profitabilityBool}\\\", 창의성과 시장성이 50점 이상: \\\"{creativityAndMarketabilityBool}\\\", 시장성과 수익성을 더한 값의 절반이 안정성보다 이상: \\\"{stabilityBool}\\\"')\n",
        "\n",
        "# 출력 결과\n",
        "print(f'창업 지원 결과!! : \\\"{isPass}\\\"');"
      ]
    },
    {
      "cell_type": "markdown",
      "metadata": {
        "id": "m62Ej8qmuaWL"
      },
      "source": [
        "## 모험가들의 레벨업 도전\n",
        "\n",
        "### [배경 이야기]\n",
        "\n",
        "당신은 마법사, 전사, 도적, 힐러 네 명의 모험가를 이끄는 리더입니다.\n",
        "\n",
        "각 캐릭터는 힘, 민첩, 지능, 체력이라는 능력치를 가지고 있습니다. 이 능력치들을 이용해 다양한 도전을 해결하고 사냥을 통해 경험치를 얻어 레벨업을 해야 합니다.\n",
        "\n",
        "<br>\n",
        "\n",
        "### [동료 캐릭터와 능력치 정보]\n",
        "\n",
        "마법사: 힘(10), 민첩(20), 지능(80), 체력(50)\n",
        "\n",
        "전사: 힘(80), 민첩(30), 지능(20), 체력(100)\n",
        "\n",
        "도적: 힘(40), 민첩(80), 지능(30), 체력(60)\n",
        "\n",
        "힐러: 힘(20), 민첩(40), 지능(70), 체력(70)\n",
        "\n",
        "<br>\n",
        "\n",
        "* 변수명을 영어로 변경해서 풀어보세요 !"
      ]
    },
    {
      "cell_type": "markdown",
      "metadata": {
        "id": "KeX1_9gduaWM"
      },
      "source": [
        "<br>\n",
        "\n",
        "__[문제 1: 첫 번째 사냥]__\n",
        "\n",
        "마법사는 몬스터를 사냥하기 위해 마법을 사용합니다.\n",
        "\n",
        "마법을 사용하려면 지능이 50 이상이어야 합니다.\n",
        "\n",
        "마법사의 지능이 50 이상인지 확인하세요."
      ]
    },
    {
      "cell_type": "code",
      "execution_count": 15,
      "metadata": {
        "id": "EfU1yEAcuaWM"
      },
      "outputs": [],
      "source": [
        "wizard = \"힘(10), 민첩(20), 지능(80), 체력(50)\"\n",
        "warrior = \"힘(80), 민첩(30), 지능(20), 체력(100)\"\n",
        "rogue = \"힘(40), 민첩(80), 지능(30), 체력(60)\"\n",
        "healer = \"힘(20), 민첩(40), 지능(70), 체력(70)\""
      ]
    },
    {
      "cell_type": "code",
      "source": [
        "# 각각 능력치 해당하는 인덱스 찾기 [기준 마법사] 전사 체력 빼고 다 같아서 마법사 기준으로 통일 했습니다.\n",
        "idxStrFirst = wizard.index(\"힘\") + 2;\n",
        "idxStrDone = idxStrFirst + 2;\n",
        "\n",
        "idxDexFirst = wizard.index(\"첩\") + 2;\n",
        "idxDexDone = idxDexFirst + 2;\n",
        "\n",
        "idxIntFirst = wizard.index(\"능\") + 2;\n",
        "idxIntDone = idxIntFirst + 2;\n",
        "\n",
        "idxHpFirst = wizard.index(\"력\") + 2;\n",
        "idxHpDone = len(wizard)-1;\n",
        "\n",
        "# [전사] 체력만 다시 작성\n",
        "idxHpFirstWarrior = warrior.index(\"력\") + 2;\n",
        "idxHpDoneWarrior = len(warrior)-1;\n",
        "\n",
        "\n",
        "\n",
        "print(rogue[idxStrFirst:idxStrDone]);\n",
        "print(rogue[idxDexFirst:idxDexDone]);\n",
        "print(rogue[idxIntFirst:idxIntDone]);\n",
        "print(rogue[idxHpFirst:idxHpDone]);"
      ],
      "metadata": {
        "colab": {
          "base_uri": "https://localhost:8080/"
        },
        "id": "pRShKdDOXUOs",
        "outputId": "3211ad29-654c-47a6-aa6e-ba53f964f3b9"
      },
      "execution_count": 36,
      "outputs": [
        {
          "output_type": "stream",
          "name": "stdout",
          "text": [
            "40\n",
            "80\n",
            "30\n",
            "60\n"
          ]
        }
      ]
    },
    {
      "cell_type": "code",
      "source": [
        "# 각 캐릭터별 능력치\n",
        "# [마법사]\n",
        "wizardStr = wizard[idxStrFirst:idxStrDone];\n",
        "wizardDex = wizard[idxDexFirst:idxDexDone];\n",
        "wizardInt = wizard[idxIntFirst:idxIntDone];\n",
        "wizardHp = wizard[idxHpFirst:idxHpDone];\n",
        "\n",
        "# [전사]\n",
        "warriorStr = warrior[idxStrFirst:idxStrDone];\n",
        "warriorDex = warrior[idxDexFirst:idxDexDone];\n",
        "warriorInt = warrior[idxIntFirst:idxIntDone];\n",
        "warriorHp = warrior[idxHpFirstWarrior:idxHpDoneWarrior];\n",
        "\n",
        "# [도적]\n",
        "rogueStr = rogue[idxStrFirst:idxStrDone];\n",
        "rogueDex = rogue[idxDexFirst:idxDexDone];\n",
        "rogueInt = rogue[idxIntFirst:idxIntDone];\n",
        "rogueHp = rogue[idxHpFirst:idxHpDone];\n",
        "\n",
        "# [힐러]\n",
        "healerStr = healer[idxStrFirst:idxStrDone];\n",
        "healerDex = healer[idxDexFirst:idxDexDone];\n",
        "healerInt = healer[idxIntFirst:idxIntDone];\n",
        "healerHp = healer[idxHpFirst:idxHpDone];\n",
        "\n",
        "\n",
        "# 능력치 확인\n",
        "# print(wizardStr, wizardDex, wizardInt, wizardHp)\n",
        "# print(warriorStr, warriorDex, warriorInt, warriorHp)\n",
        "# print(rogueStr, rogueDex, rogueInt, rogueHp)\n",
        "# print(healerStr, healerDex, healerInt, healerHp)\n",
        "\n"
      ],
      "metadata": {
        "id": "zZx9tz4gWGev"
      },
      "execution_count": 37,
      "outputs": []
    },
    {
      "cell_type": "code",
      "source": [
        "# [문제 1: 첫 번째 사냥]\n",
        "# 마법사는 몬스터를 사냥하기 위해 마법을 사용합니다.\n",
        "# 마법을 사용하려면 지능이 50 이상이어야 합니다.\n",
        "# 마법사의 지능이 50 이상인지 확인하세요.\n",
        "\n",
        "\n",
        "# 능력치 문자열을 인트형으로 바꿉니다.\n",
        "wizardStrToInt = int(wizardInt);\n",
        "\n",
        "print(f'마법사의 지능이 \\'50\\'이상입니까? : {wizardStrToInt > 50}');"
      ],
      "metadata": {
        "colab": {
          "base_uri": "https://localhost:8080/"
        },
        "id": "tn40orp0b060",
        "outputId": "1a1ca1b7-ff51-497e-dff2-1391c35de9c8"
      },
      "execution_count": 48,
      "outputs": [
        {
          "output_type": "stream",
          "name": "stdout",
          "text": [
            "마법사의 지능이 '50'이상입니까? : True\n"
          ]
        }
      ]
    },
    {
      "cell_type": "markdown",
      "metadata": {
        "id": "zoXNp8uiuaWM"
      },
      "source": [
        "<br>\n",
        "\n",
        "__[문제 2: 두 번째 사냥]__\n",
        "\n",
        "전사는 강력한 공격을 하기 위해 자신의 힘을 사용합니다.\n",
        "\n",
        "전사의 힘이 60 이상이고 체력이 80 이상인지 확인하세요."
      ]
    },
    {
      "cell_type": "code",
      "execution_count": 47,
      "metadata": {
        "colab": {
          "base_uri": "https://localhost:8080/"
        },
        "id": "U32zxB1YuaWM",
        "outputId": "a8865f0b-099c-4730-f045-9326c5fd2d09"
      },
      "outputs": [
        {
          "output_type": "stream",
          "name": "stdout",
          "text": [
            "전사의 힘이 '60'이상입니까? True 채력이 '80'이상입니까? True\n"
          ]
        }
      ],
      "source": [
        "# 능력치 문자열을 인트형으로 바꿉니다.\n",
        "warriorStrToInt = int(warriorStr);\n",
        "warriorHpToInt = int(warriorHp);\n",
        "\n",
        "print(f'전사의 힘이 \\'60\\'이상입니까? {warriorStrToInt > 60} 채력이 \\'80\\'이상입니까? {warriorHpToInt > 80}');"
      ]
    },
    {
      "cell_type": "markdown",
      "metadata": {
        "id": "CjtEH_61uaWM"
      },
      "source": [
        "<br>\n",
        "\n",
        "__[문제 3: 세 번째 사냥]__\n",
        "\n",
        "도적은 민첩함을 이용해 몬스터를 회피하고 공격합니다.\n",
        "\n",
        "도적의 민첩이 70 이상이거나 힘이 50 이상인지 확인하세요."
      ]
    },
    {
      "cell_type": "code",
      "execution_count": 46,
      "metadata": {
        "colab": {
          "base_uri": "https://localhost:8080/"
        },
        "id": "a64tH62kuaWM",
        "outputId": "53e6a731-6c20-4b79-9f7f-9f30b08b2d4f"
      },
      "outputs": [
        {
          "output_type": "stream",
          "name": "stdout",
          "text": [
            "도적의 민첩이 '70'이상이거나 힘이 '50'이상입니까? True\n"
          ]
        }
      ],
      "source": [
        "# 능력치 문자열을 인트형으로 바꿉니다.\n",
        "rogueDexToInt = int(rogueDex);\n",
        "rogueStrToInt = int(rogueStr);\n",
        "\n",
        "print(f'도적의 민첩이 \\'70\\'이상이거나 힘이 \\'50\\'이상입니까? {(rogueDexToInt > 70) or (rogueStrToInt > 50)}');"
      ]
    },
    {
      "cell_type": "markdown",
      "metadata": {
        "id": "dLdjqBMsuaWM"
      },
      "source": [
        "<br>\n",
        "\n",
        "__[문제 4: 네 번째 사냥]__\n",
        "\n",
        "힐러는 파티의 체력을 회복시키기 위해 마법을 사용합니다.\n",
        "\n",
        "힐러의 지능이 60 이상이고, 체력이 50 이상인지 확인하세요."
      ]
    },
    {
      "cell_type": "code",
      "execution_count": 49,
      "metadata": {
        "colab": {
          "base_uri": "https://localhost:8080/"
        },
        "id": "61KJjBTyuaWM",
        "outputId": "e5e2e756-6d30-4d6e-fa0e-c96fe158656e"
      },
      "outputs": [
        {
          "output_type": "stream",
          "name": "stdout",
          "text": [
            "힐러의 지능이 '60'이상이고, 채력이 '50'이상입니까? True\n"
          ]
        }
      ],
      "source": [
        "# 능력치 문자열을 인트형으로 바꿉니다.\n",
        "healerIntToInt = int(healerInt);\n",
        "healerHpToInt = int(healerHp);\n",
        "\n",
        "print(f'힐러의 지능이 \\'60\\'이상이고, 채력이 \\'50\\'이상입니까? {(healerIntToInt > 60) and (healerHpToInt > 50)}');"
      ]
    },
    {
      "cell_type": "markdown",
      "metadata": {
        "id": "rjiKvEShuaWM"
      },
      "source": [
        "<br>\n",
        "\n",
        "__[문제 5: 레벨업]__\n",
        "\n",
        "모든 캐릭터가 사냥을 성공적으로 마쳤습니다. 이제 경험치를 얻어 레벨업을 해야 합니다.\n",
        "\n",
        "\n",
        "각 캐릭터의 경험치가 100 이상인지 print()를 이용해 확인해주세요.\n",
        "\n",
        "<br>\n",
        "\n",
        "경험치는 아래와 같습니다.\n",
        "\n",
        "마법사: 120\n",
        "\n",
        "전사: 150\n",
        "\n",
        "도적: 110\n",
        "\n",
        "힐러: 90\n",
        "\n"
      ]
    },
    {
      "cell_type": "code",
      "execution_count": 52,
      "metadata": {
        "colab": {
          "base_uri": "https://localhost:8080/"
        },
        "id": "w7b7CfoduaWM",
        "outputId": "d3f7d54d-ea4c-4da2-884e-4bd6997dd3ca"
      },
      "outputs": [
        {
          "output_type": "stream",
          "name": "stdout",
          "text": [
            "마법사 레벨업 할수 있습니까? True / 레벨업 하고 남은 경험치 : 20\n",
            "전사 레벨업 할수 있습니까? True / 레벨업 하고 남은 경험치 : 50\n",
            "도적 레벨업 할수 있습니까? True / 레벨업 하고 남은 경험치 : 10\n",
            "힐러 레벨업 할수 있습니까? False / 경험치가 '10'모자라 레벨업 하지못했습니다.\n"
          ]
        }
      ],
      "source": [
        "nextExp = 100;\n",
        "wizardExp, warriorExp, rogueExp, healerExp = 120, 150, 110, 90;\n",
        "\n",
        "# 레벨업을하고 남은 경험치를 계산합니다.\n",
        "wizardRemainderExp = wizardExp - nextExp;\n",
        "warriorRemainderExp = warriorExp - nextExp;\n",
        "rogueRemainderExp = rogueExp - nextExp;\n",
        "healerRemainderExp = nextExp - healerExp;\n",
        "\n",
        "\n",
        "print(f'마법사 레벨업 할수 있습니까? {wizardExp > nextExp} / 레벨업 하고 남은 경험치 : {wizardRemainderExp}');\n",
        "print(f'전사 레벨업 할수 있습니까? {warriorExp > nextExp} / 레벨업 하고 남은 경험치 : {warriorRemainderExp}');\n",
        "print(f'도적 레벨업 할수 있습니까? {rogueExp > nextExp} / 레벨업 하고 남은 경험치 : {rogueRemainderExp}');\n",
        "print(f'힐러 레벨업 할수 있습니까? {healerExp > nextExp} / 경험치가 \\'{healerRemainderExp}\\'모자라 레벨업 하지못했습니다.');"
      ]
    }
  ],
  "metadata": {
    "colab": {
      "provenance": []
    },
    "kernelspec": {
      "display_name": "Python 3",
      "name": "python3"
    },
    "language_info": {
      "name": "python"
    }
  },
  "nbformat": 4,
  "nbformat_minor": 0
}