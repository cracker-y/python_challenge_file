{
  "cells": [
    {
      "cell_type": "markdown",
      "metadata": {
        "id": "WXEwMsfUct7U"
      },
      "source": [
        "안녕하세요.<br><br>\n",
        "수강생 여러분~!\n",
        "\n",
        "\"Challenge : Chapter05 ~ 08 문제풀기\"는 잘 풀어보셨나요?\n",
        "\n",
        "\n",
        "너~~무 어려웠어요! 하는 분들을 위해 만들어봤습니다!\n",
        "\n",
        "문제 도장깨기 !!!!!\n",
        "\n",
        "차근차근 풀어나가면 파이썬 정복 가능입니다!\n",
        "\n",
        "화이팅 !\n",
        "\n",
        "\n",
        "Chapter05~08의 수업 내용을 바탕으로 아래 문제를 풀어주시면 됩니다.\n",
        "\n",
        "<br>\n",
        "\n",
        "[**답변 입력 방법**]\n",
        "\n",
        "문제 아래에 있는 코드 입력창에 정답코드를 작성하신 후  __▷ 버튼을 클릭해 코드를 실행__ 해보세요<br>\n",
        "<br>"
      ]
    },
    {
      "cell_type": "markdown",
      "metadata": {
        "id": "qoyC9wF-3hvs"
      },
      "source": [
        "-----"
      ]
    },
    {
      "cell_type": "markdown",
      "metadata": {
        "id": "5ZhzT8v5S77Y"
      },
      "source": [
        "<br>\n",
        "\n",
        "__[문제1]__\n",
        "\n",
        "\n",
        "a와 b라는 변수를 각각 10과 20으로 초기화하고, 두 변수를 더한 값을 출력해보세요.\n",
        "\n",
        "\n",
        "<br>"
      ]
    },
    {
      "cell_type": "code",
      "execution_count": 3,
      "metadata": {
        "colab": {
          "base_uri": "https://localhost:8080/"
        },
        "id": "ol2j0NprS77Z",
        "outputId": "e1ea8512-85bf-44c1-e8a4-9ca313595c5f"
      },
      "outputs": [
        {
          "name": "stdout",
          "output_type": "stream",
          "text": [
            "a + b = 30\n"
          ]
        }
      ],
      "source": [
        "a = 10\n",
        "b = 20\n",
        "\n",
        "print(f'a + b = {a + b}')"
      ]
    },
    {
      "cell_type": "markdown",
      "metadata": {
        "id": "fZJaU4SbS77Z"
      },
      "source": [
        "<br>\n",
        "\n",
        "__[문제2]__\n",
        "\n",
        "\n",
        "변수 num1에 15, num2에 4를 할당하고, 두 변수를 더한 값, 뺀 값, 곱한 값, 나눈 값을 각각 출력하세요.\n",
        "\n",
        "\n",
        "\n",
        "<br>"
      ]
    },
    {
      "cell_type": "code",
      "execution_count": 6,
      "metadata": {
        "colab": {
          "base_uri": "https://localhost:8080/"
        },
        "id": "FtM6yg_tS77a",
        "outputId": "27919cac-b288-4b8b-91f8-4fa60eba3fb7"
      },
      "outputs": [
        {
          "name": "stdout",
          "output_type": "stream",
          "text": [
            "num1 = 15, num2 = 4\n",
            "\n",
            "더하기 : 19\n",
            "빼기 : 11\n",
            "곱하기 : 60\n",
            "나누기 : 3.75\n"
          ]
        }
      ],
      "source": [
        "num1 = 15\n",
        "num2 = 4\n",
        "\n",
        "print(f'num1 = {num1}, num2 = {num2}\\n')\n",
        "#더한 값\n",
        "print(f'더하기 : {num1 + num2}')\n",
        "\n",
        "#뺀 값\n",
        "print(f'빼기 : {num1 - num2}')\n",
        "\n",
        "#곱한 값\n",
        "print(f'곱하기 : {num1 * num2}')\n",
        "\n",
        "#나눈 값\n",
        "print(f'나누기 : {num1 / num2}')\n"
      ]
    },
    {
      "cell_type": "markdown",
      "metadata": {
        "id": "rAD_O3Gmc_43"
      },
      "source": [
        "<br>\n",
        "\n",
        "__[문제3]__\n",
        "\n",
        "변수 x에 5를 할당하고, 변수 y에 3을 할당한 후, x가 y보다 크거나 같은지 비교해서 bool타입으로 출력해주세요."
      ]
    },
    {
      "cell_type": "code",
      "execution_count": 9,
      "metadata": {
        "colab": {
          "base_uri": "https://localhost:8080/"
        },
        "id": "74wtVQFFc_h1",
        "outputId": "c3b01550-4a8f-434f-f028-4f810bcbc07f"
      },
      "outputs": [
        {
          "name": "stdout",
          "output_type": "stream",
          "text": [
            "x = 5, y = 3\n",
            "x가 y보다 크거나 같습니까? : True\n"
          ]
        }
      ],
      "source": [
        "x = 5\n",
        "y = 3\n",
        "\n",
        "bool = (x > y) or (x == y); # >=\n",
        "\n",
        "print(f'x = {x}, y = {y}')\n",
        "print(f'x가 y보다 크거나 같습니까? : {bool}')"
      ]
    },
    {
      "cell_type": "markdown",
      "metadata": {
        "id": "3uK_auXYdgk2"
      },
      "source": [
        "<br>__[문제4]__\n",
        "\n",
        "자료형 (int, float, str, bool) 변수를 만들어보고, print()해서 결과를 확인하세요!\n"
      ]
    },
    {
      "cell_type": "code",
      "execution_count": null,
      "metadata": {
        "id": "9kvBxa6PdhgA"
      },
      "outputs": [],
      "source": [
        "int = int(5)\n",
        "float = float(9.5)\n",
        "string = str(\"화이팅\")\n",
        "bool = bool(True)\n",
        "\n",
        "# 결과보기\n",
        "print(f'int: {int}, float: {float}, string: {str}, bool: {bool}')"
      ]
    },
    {
      "cell_type": "markdown",
      "metadata": {
        "id": "2Jte2VLKdiPm"
      },
      "source": [
        "__[문제5]__\n",
        "\n",
        "str = \"야호야호야호호야호야야오햐오햐오햐오\"\n",
        "\n",
        "str을 3가지 이상의 다른 문자열 슬라이싱을 이용하여 확인해보세요!\n",
        "\n",
        "출력 예)\n",
        "\n",
        "처음 5글자: 야호야호야\n"
      ]
    },
    {
      "cell_type": "code",
      "execution_count": 17,
      "metadata": {
        "colab": {
          "base_uri": "https://localhost:8080/"
        },
        "id": "zgZNO_05S77b",
        "outputId": "9ed2df4d-1c5b-4a1f-e760-5b04f2572810"
      },
      "outputs": [
        {
          "name": "stdout",
          "output_type": "stream",
          "text": [
            "야호야호야\n",
            "호야호야\n",
            "오햐\n",
            "햐오햐오햐오\n"
          ]
        }
      ],
      "source": [
        "str = \"야호야호야호호야호야야오햐오햐오햐오\"\n",
        "\n",
        "print(f'{str[0:5]}')\n",
        "print(f'{str[6:10]}')\n",
        "print(f'{str[11:13]}')\n",
        "print(f'{str[12:20]}')"
      ]
    }
  ],
  "metadata": {
    "colab": {
      "provenance": []
    },
    "kernelspec": {
      "display_name": "Python 3",
      "name": "python3"
    },
    "language_info": {
      "codemirror_mode": {
        "name": "ipython",
        "version": 3
      },
      "file_extension": ".py",
      "mimetype": "text/x-python",
      "name": "python",
      "nbconvert_exporter": "python",
      "pygments_lexer": "ipython3",
      "version": "3.12.3"
    }
  },
  "nbformat": 4,
  "nbformat_minor": 0
}
