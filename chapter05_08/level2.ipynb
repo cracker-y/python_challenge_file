{
  "cells": [
    {
      "cell_type": "markdown",
      "metadata": {
        "id": "WXEwMsfUct7U"
      },
      "source": [
        "안녕하세요.<br><br>\n",
        "수강생 여러분~!\n",
        "\n",
        "\"Challenge : Chapter05 ~ 08 문제풀기\"는 잘 풀어보셨나요?\n",
        "\n",
        "\n",
        "너~~무 어려웠어요! 하는 분들을 위해 만들어봤습니다!\n",
        "\n",
        "문제 도장깨기 !!!!!\n",
        "\n",
        "차근차근 풀어나가면 파이썬 정복 가능입니다!\n",
        "\n",
        "화이팅 !\n",
        "\n",
        "\n",
        "Chapter05~08의 수업 내용을 바탕으로 아래 문제를 풀어주시면 됩니다.\n",
        "\n",
        "<br>\n",
        "\n",
        "[**답변 입력 방법**]\n",
        "\n",
        "문제 아래에 있는 코드 입력창에 정답코드를 작성하신 후  __▷ 버튼을 클릭해 코드를 실행__ 해보세요<br>\n",
        "<br>"
      ]
    },
    {
      "cell_type": "markdown",
      "metadata": {
        "id": "qoyC9wF-3hvs"
      },
      "source": [
        "-----"
      ]
    },
    {
      "cell_type": "markdown",
      "metadata": {
        "id": "B1Qwx6_ZK04X"
      },
      "source": [
        "<br>\n",
        "\n",
        "__[문제1]__\n",
        "\n",
        "코딩나라는 파이썬 문법을 통해 타이틀을 바꿔주면 신분을 변경할 수 있습니다.\n",
        "평민이 왕의 타이틀을 뻇으려고 합니다.\n",
        "평민의 신분상승 도와주세요 ! 그리고 출력으로 확인시켜주세요 !\n",
        "\n",
        "<br>\n",
        "출력 예)\n",
        "\n",
        "평민은 이제 '왕'\n",
        "\n",
        "왕은 이제 '평민'\n",
        "<br>"
      ]
    },
    {
      "cell_type": "code",
      "execution_count": 2,
      "metadata": {
        "colab": {
          "base_uri": "https://localhost:8080/"
        },
        "id": "oNpnlCQoK04X",
        "outputId": "3ce6dd4b-0045-4c20-9ee3-0ec388755154"
      },
      "outputs": [
        {
          "output_type": "stream",
          "name": "stdout",
          "text": [
            "평민은 이제'왕'\n",
            "왕은 이제'평민'\n"
          ]
        }
      ],
      "source": [
        "commoner = \"평민\"\n",
        "king = \"왕\"\n",
        "\n",
        "print(f'{commoner}은 이제\\'{king}\\'')\n",
        "print(f'{king}은 이제\\'{commoner}\\'')"
      ]
    },
    {
      "cell_type": "markdown",
      "metadata": {
        "id": "hpc4W5EwK04Y"
      },
      "source": [
        "<br>\n",
        "\n",
        "__[문제2]__\n",
        "\n",
        "꿈에서 숫자가 보였습니다.\n",
        "\n",
        "바로 로또를 사려고 하는데 앗 숫자가 너무 길어요 !\n",
        "\n",
        "정수부분만 잘라서 로또 번호를 골라보기로 했습니다.\n",
        "\n",
        "122211170788345.273782741828653689149813 정수 부분만 출력해주세요.\n",
        "\n",
        "\n",
        "<br>"
      ]
    },
    {
      "cell_type": "code",
      "execution_count": 13,
      "metadata": {
        "colab": {
          "base_uri": "https://localhost:8080/"
        },
        "id": "7W7pXpJ1K04Y",
        "outputId": "0ce26d4b-f3b3-4732-ba7d-7470f9d37494"
      },
      "outputs": [
        {
          "output_type": "stream",
          "name": "stdout",
          "text": [
            "실수 : 122211170788345.273782741828653689149813\n",
            "정수로 변환 : 122211170788345\n"
          ]
        }
      ],
      "source": [
        "num = 122211170788345.273782741828653689149813\n",
        "\n",
        "#실수표현이 2번째 자리에서 올림으로 표현이 되어서 문자열로 바꿔서 진행했습니다.\n",
        "numberToString = \"122211170788345.273782741828653689149813\"\n",
        "\n",
        "#실수로 표현된 문자열을 바로 INT 형으로 바꾸려고하니 에러!!\n",
        "# stringToNumber = int(numberToString)\n",
        "\n",
        "#실수로 먼저 표현해주고 정수로 바꾸니 해결 완료!\n",
        "stringToNumber = int(float(numberToString))\n",
        "\n",
        "print(f'실수 : {numberToString}')\n",
        "print(f'정수로 변환 : {stringToNumber}')"
      ]
    },
    {
      "cell_type": "markdown",
      "metadata": {
        "id": "rAD_O3Gmc_43"
      },
      "source": [
        "<br>\n",
        "\n",
        "__[문제3]__\n",
        "\n",
        "\n",
        "sentence 변수를 할당하고, 양쪽 공백을 제거한 후 출력해주세요 !\n",
        "\n",
        "<br>\n",
        "\n",
        "__sentence = \" Hello World!  \"__\n"
      ]
    },
    {
      "cell_type": "code",
      "execution_count": 17,
      "metadata": {
        "id": "74wtVQFFc_h1",
        "colab": {
          "base_uri": "https://localhost:8080/"
        },
        "outputId": "6e8143f0-2d8c-4553-ddec-ac0030d85744"
      },
      "outputs": [
        {
          "output_type": "stream",
          "name": "stdout",
          "text": [
            "이전 모습:  Hello World! \n",
            "공백 제거한 모습: HelloWorld!\n"
          ]
        }
      ],
      "source": [
        "sentence = \" Hello World! \"\n",
        "\n",
        "spaceRemove = ''.join(sentence.split(' '))\n",
        "\n",
        "print(f'이전 모습: {sentence}')\n",
        "print(f'공백 제거한 모습: {spaceRemove}')"
      ]
    },
    {
      "cell_type": "markdown",
      "metadata": {
        "id": "3uK_auXYdgk2"
      },
      "source": [
        "<br>__[문제4]__\n",
        "\n",
        "산만이가 집중력 테스트를 하기로 합니다.\n",
        "\n",
        "아주아주 긴 문자열이 있는데 여기에서 s의 횟수를 세보라고 합니다.\n",
        "\n",
        "파이썬을 배운 산만이에게는 꼼수가 있습니다.\n",
        "\n",
        "어떤 꼼수를 사용했을지 코드로 작성하고, 출력해주세요 !\n",
        "\n",
        "<br>\n",
        "\n",
        "__str = \"sdsdsddddddsdsssdssssdssssdsdssssssssssdsdsdsdsdssssdsdsssdssssdssssdsdssdsssdssssdssssdsdssdsssdssssdssssdsdssdsssdssssdssssdsdss\"__\n"
      ]
    },
    {
      "cell_type": "code",
      "execution_count": 30,
      "metadata": {
        "id": "9kvBxa6PdhgA",
        "colab": {
          "base_uri": "https://localhost:8080/"
        },
        "outputId": "99a26743-6fb8-4721-8332-7f84058e0a8e"
      },
      "outputs": [
        {
          "output_type": "stream",
          "name": "stdout",
          "text": [
            "s 의 개수는? 91\n",
            "a 의 개수는? 1\n"
          ]
        }
      ],
      "source": [
        "# a 개수도 확인하기 위해 'a' 도 마지막에 넣어 보았습니다.\n",
        "# str = \"sdsdsddddddsds ssdsss sdssss dsdssss sssss sdsdsdsds dssssds dsssdss ssdsss sdsdssds ssdsss sdssss dsdssdss sdssss dssssds dssdsss dssssds sssdsds sa\"\n",
        "longStr = \"sdsdsddddddsdsssdssssdssssdsdssssssssssdsdsdsdsdssssdsdsssdssssdssssdsdssdsssdssssdssssdsdssdsssdssssdssssdsdssdsssdssssdssssdsdssa\"\n",
        "\n",
        "sCount = longStr.count('s')\n",
        "aCount = longStr.count('a')\n",
        "\n",
        "print(f's 의 개수는? {sCount}')\n",
        "print(f'a 의 개수는? {aCount}')\n"
      ]
    },
    {
      "cell_type": "markdown",
      "metadata": {
        "id": "2Jte2VLKdiPm"
      },
      "source": [
        "__[문제5]__\n",
        "\n",
        "\n",
        "변수 data에 \"apple, banana, cherry\"를 할당하고, 이를 쉼표 기준으로 분리하여 출력해주세요 !"
      ]
    },
    {
      "cell_type": "code",
      "execution_count": 36,
      "metadata": {
        "colab": {
          "base_uri": "https://localhost:8080/"
        },
        "id": "2UyKGyiWK04Z",
        "outputId": "410277a9-7571-46ae-e637-c9278962b91c"
      },
      "outputs": [
        {
          "output_type": "stream",
          "name": "stdout",
          "text": [
            "['apple', ' banana', ' cherry']\n"
          ]
        }
      ],
      "source": [
        "data = \"apple, banana, cherry\"\n",
        "\n",
        "separation = data.split(',')\n",
        "\n",
        "print(separation)"
      ]
    }
  ],
  "metadata": {
    "colab": {
      "provenance": []
    },
    "kernelspec": {
      "display_name": "Python 3",
      "name": "python3"
    },
    "language_info": {
      "codemirror_mode": {
        "name": "ipython",
        "version": 3
      },
      "file_extension": ".py",
      "mimetype": "text/x-python",
      "name": "python",
      "nbconvert_exporter": "python",
      "pygments_lexer": "ipython3",
      "version": "3.12.3"
    }
  },
  "nbformat": 4,
  "nbformat_minor": 0
}