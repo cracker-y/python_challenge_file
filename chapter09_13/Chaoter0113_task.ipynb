{
  "cells": [
    {
      "cell_type": "markdown",
      "metadata": {
        "id": "fD4Qab2qYgOm"
      },
      "source": [
        "안녕하세요. 수강생 여러분~!\n",
        "\n",
        "Chapter01 ~ 13의 수업 내용을 바탕으로 아래 문제를 풀어주시면 됩니다 !\n",
        "\n",
        "지금까지 잘 해오셨으니까, 총 복습한다고 생각하시고 한번 도전해보세요 !!!\n",
        "\n",
        "\n",
        "<br>\n",
        "\n",
        "\n",
        "[**답변 입력 방법**]\n",
        "\n",
        "문제 아래에 있는 코드 입력창에 정답코드를 작성하신 후  __▷ 버튼을 클릭해 코드를 실행__ 해보세요<br>"
      ]
    },
    {
      "cell_type": "markdown",
      "metadata": {
        "id": "bZnW-R8N6L0k"
      },
      "source": [
        "---"
      ]
    },
    {
      "cell_type": "markdown",
      "metadata": {
        "id": "dYFKRq-O6L0k"
      },
      "source": [
        "### 프로젝트: 간단한 ATM 관리 시스템\n",
        "<br>\n",
        "\n",
        "__[문제 1: 잔액 확인]__\n",
        "\n",
        "현재 잔액은 1000원입니다. 현재 잔액을 출력하세요.\n",
        "\n",
        "(변수명 예시 : 잔액 - balance)"
      ]
    },
    {
      "cell_type": "code",
      "execution_count": 55,
      "metadata": {
        "colab": {
          "base_uri": "https://localhost:8080/"
        },
        "id": "MjZI7yRg6L0k",
        "outputId": "41e36c1f-bb6b-4804-cf6d-8af728215526"
      },
      "outputs": [
        {
          "output_type": "stream",
          "name": "stdout",
          "text": [
            "현재 잔액은 1000원입니다.\n"
          ]
        }
      ],
      "source": [
        "balance = 1000\n",
        "\n",
        "print(f'현재 잔액은 {balance}원입니다.')"
      ]
    },
    {
      "cell_type": "markdown",
      "metadata": {
        "id": "GJFD456y6L0k"
      },
      "source": [
        "__[문제 2: 입금]__\n",
        "\n",
        "가지고 있는 돈을 입금합니다.\n",
        "\n",
        "입금 금액을 입력받고, 잔액을 갱신한 후 새로운 잔액을 출력하세요. 입금 거래를 영수증 리스트에 기록하세요.\n",
        "\n",
        "- 입금 금액은 input()을 이용해 받습니다.\n",
        "- 영수증은 list()로 선언합니다.\n",
        "- 영수증에 들어가는 정보는 튜플 형태입니다.\n",
        "- 튜플에 담기는 정보는 (입금 or 출금, 입금 or 출금 금액, 현재 잔액)순 입니다.\n",
        "\n",
        "(변수명 예시: 영수증 리스트 - receipts, 입금 금액 - deposit_amount)\n"
      ]
    },
    {
      "cell_type": "code",
      "execution_count": 56,
      "metadata": {
        "colab": {
          "base_uri": "https://localhost:8080/"
        },
        "id": "3sxLjYQc6L0l",
        "outputId": "5662a834-2653-449e-a03b-0ab0ad0540a6"
      },
      "outputs": [
        {
          "output_type": "stream",
          "name": "stdout",
          "text": [
            "입금 금액을 입력해주세요 > 1000\n",
            "--------------------------------\n",
            "\n",
            "['입금', '입금 금액:1000', '현재잔액:2000']\n"
          ]
        }
      ],
      "source": [
        "# 입금 금액 input 메시지\n",
        "depositMessage = \"입금 금액을 입력해주세요 > \"\n",
        "\n",
        "# 입금 금액 입력 받기\n",
        "deposit_amount = input(depositMessage).split(',')\n",
        "\n",
        "# 가독성을 위한 라인 생성\n",
        "print(\"--------------------------------\")\n",
        "\n",
        "# 영수증 리스트\n",
        "depositReceipt = list((\"입금\", \"입금 금액:0\", f'현재잔액:{balance}'))\n",
        "\n",
        "# 입금금액: 영수증 리스트에 업데이트\n",
        "setGold = depositReceipt[1].split(':')\n",
        "setGold[1]= deposit_amount[0]\n",
        "setGold = \":\".join(setGold)\n",
        "depositReceipt[1] = setGold\n",
        "\n",
        "# 현재 잔액 추출\n",
        "totalGold = depositReceipt[2].split(':')\n",
        "\n",
        "# 현재 잔액: 업데이트\n",
        "setGold = depositReceipt[2].split(':')\n",
        "setGold[1]= str(int(deposit_amount[0]) + int(totalGold[1]))\n",
        "setGold = \":\".join(setGold)\n",
        "depositReceipt[2] = setGold\n",
        "balance += int(totalGold[1])\n",
        "\n",
        "# 결과!!\n",
        "print(f'\\n{depositReceipt}')"
      ]
    },
    {
      "cell_type": "markdown",
      "metadata": {
        "id": "K63GnXmx6L0l"
      },
      "source": [
        "__[문제 3: 출금]__\n",
        "\n",
        "사용자가 돈을 출금합니다. 출금 금액을 입력받고, 잔액을 갱신한 후 새로운 잔액을 출력하세요. 출금 거래를 영수증 리스트에 기록하세요.\n",
        "\n",
        "- 출금 금액은 input()을 이용해 받습니다.\n",
        "- 현재 잔액보다 출금 요청 금액이 많을 경우 현재 잔액 만큼만 출금되도록 합니다.\n",
        "- 영수증에 들어가는 정보는 튜플 형태입니다.\n",
        "- 튜플에 담기는 정보는 (입금 or 출금, 입금 or 출금 금액, 현재 잔액)순 입니다.\n",
        "\n",
        "(변수명 예시: 출금금액 - withdraw_amount)"
      ]
    },
    {
      "cell_type": "code",
      "execution_count": 57,
      "metadata": {
        "colab": {
          "base_uri": "https://localhost:8080/"
        },
        "id": "uEW_YUBy6L0l",
        "outputId": "e8ed9175-751f-4e67-beb3-425d6fd1fd37"
      },
      "outputs": [
        {
          "output_type": "stream",
          "name": "stdout",
          "text": [
            "출금 금액을 입력해주세요 > 500\n",
            "--------------------------------\n",
            "\n",
            "['출금', '출금 금액:500', '현재잔액:1500']\n"
          ]
        }
      ],
      "source": [
        "# 출금 금액 input 메시지\n",
        "withdrawMessage = \"출금 금액을 입력해주세요 > \"\n",
        "\n",
        "# 출금 금액 입력 받기\n",
        "withdraw_amount = input(withdrawMessage).split(',')\n",
        "\n",
        "# 가독성을 위한 라인 생성\n",
        "print(\"--------------------------------\")\n",
        "\n",
        "# 영수증 리스트\n",
        "withdrawReceipt = list((\"출금\", \"출금 금액:0\", f'현재잔액:{balance}'))\n",
        "\n",
        "# 출금 금액이 현재 금액보다 크거나 같은지 확인 (우대: 수수료 없음!)\n",
        "balanceCheck = balance >= int(withdraw_amount[0])\n",
        "\n",
        "# 결과 참: 출금금액과 현재잔액을 계산에서 '영수증 리스트'를 업데이트합니다.\n",
        "if balanceCheck:\n",
        "    setGold = withdrawReceipt[1].split(':')\n",
        "    setGold[1]= withdraw_amount[0]\n",
        "    setGold = \":\".join(setGold)\n",
        "    withdrawReceipt[1] = setGold\n",
        "\n",
        "    setGold = withdrawReceipt[2].split(':')\n",
        "    setGold[1]= str(balance - int(withdraw_amount[0]))\n",
        "    setGold = \":\".join(setGold)\n",
        "    withdrawReceipt[2] = setGold\n",
        "    balance -= int(withdraw_amount[0])\n",
        "else:\n",
        "    print(f'\\n현재 잔액이 부족합니다. : {balance}')\n",
        "\n",
        "# 결과\n",
        "print(f'\\n{withdrawReceipt}')\n"
      ]
    },
    {
      "cell_type": "markdown",
      "metadata": {
        "id": "whRYaH3b6L0l"
      },
      "source": [
        "__[문제 4: 모든 거래 내역 확인]__\n",
        "\n",
        "모든 거래 내역(영수증)을 요청받았을 때 출력하세요.\n",
        "- 지금까지 영수증에 추가된 정보를 출력합니다.\n",
        "- 출력 형태는 자유입니다."
      ]
    },
    {
      "cell_type": "code",
      "execution_count": 63,
      "metadata": {
        "colab": {
          "base_uri": "https://localhost:8080/"
        },
        "id": "MjFmeN_36L0l",
        "outputId": "db883be5-324a-4200-c18c-b97deed59f00"
      },
      "outputs": [
        {
          "output_type": "stream",
          "name": "stdout",
          "text": [
            "모든 거래 내역 \n",
            "\n",
            "::입금내역::\n",
            "['입금', '입금 금액:1000', '현재잔액:2000']\n",
            "--------------------------------------\n",
            "::출금내역::\n",
            "['출금', '출금 금액:500', '현재잔액:1500']\n"
          ]
        }
      ],
      "source": [
        "# allReceipt = depositReceipt + withdrawReceipt\n",
        "\n",
        "print(f'모든 거래 내역 \\n\\n::입금내역::\\n{depositReceipt}')\n",
        "print(\"--------------------------------------\")\n",
        "print(f'::출금내역::\\n{withdrawReceipt}')"
      ]
    }
  ],
  "metadata": {
    "colab": {
      "provenance": []
    },
    "kernelspec": {
      "display_name": "Python 3",
      "name": "python3"
    },
    "language_info": {
      "name": "python"
    }
  },
  "nbformat": 4,
  "nbformat_minor": 0
}