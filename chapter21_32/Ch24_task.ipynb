{
  "cells": [
    {
      "cell_type": "markdown",
      "metadata": {
        "id": "AuJgD4vVU9Xu"
      },
      "source": [
        "사용자의 이름, 나이, 성별을 출력하는 함수 print_info를 작성하세요. 이 때, 모든 매개변수는 키워드 매개변수로만 받도록 하세요."
      ]
    },
    {
      "cell_type": "markdown",
      "metadata": {
        "id": "PlRqK2AsU9Xv"
      },
      "source": []
    },
    {
      "cell_type": "code",
      "source": [
        "def print_info(name, age, bloodType):\n",
        "    print(f'이름: {name}, 나이: {age}, 혈액형: {bloodType}')\n",
        "\n",
        "print_info(\"cracker\", \"3\", \"abc\")"
      ],
      "metadata": {
        "colab": {
          "base_uri": "https://localhost:8080/"
        },
        "id": "VBV06i1IU9vn",
        "outputId": "be8a3b6d-1ed7-45d9-94d1-93bc8bd35f19"
      },
      "execution_count": 2,
      "outputs": [
        {
          "output_type": "stream",
          "name": "stdout",
          "text": [
            "이름: cracker, 나이: 3, 혈액형: abc\n"
          ]
        }
      ]
    }
  ],
  "metadata": {
    "language_info": {
      "name": "python"
    },
    "colab": {
      "provenance": []
    },
    "kernelspec": {
      "name": "python3",
      "display_name": "Python 3"
    }
  },
  "nbformat": 4,
  "nbformat_minor": 0
}