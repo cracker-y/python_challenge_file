{
  "cells": [
    {
      "cell_type": "markdown",
      "metadata": {
        "id": "Bj-zyvgiMty0"
      },
      "source": [
        "사용자로부터 이름과 나이를 입력 받아, \"안녕하세요, [이름]님! 당신은 [나이]살입니다.\"라고 출력하는 함수 greet_user를 작성하세요."
      ]
    },
    {
      "cell_type": "markdown",
      "metadata": {
        "id": "yYXPtGmLMty2"
      },
      "source": []
    },
    {
      "cell_type": "code",
      "source": [
        "def greet_user(name, age):\n",
        "    print(f\"안녕하세요.{name}님! 당신은{age}살 입니다.\")\n",
        "\n",
        "name, age = input(\"이름과 나이를 입력해주세요\").split(',')\n",
        "\n",
        "greet_user(name, age)"
      ],
      "metadata": {
        "colab": {
          "base_uri": "https://localhost:8080/"
        },
        "id": "DeDECcgdMxpF",
        "outputId": "4ff88c55-46f2-464e-bb25-3dad8e815864"
      },
      "execution_count": 5,
      "outputs": [
        {
          "output_type": "stream",
          "name": "stdout",
          "text": [
            "이름과 나이를 입력해주세요cracker, 3\n",
            "안녕하세요.cracker님! 당신은 3살 입니다.\n"
          ]
        }
      ]
    }
  ],
  "metadata": {
    "language_info": {
      "name": "python"
    },
    "colab": {
      "provenance": []
    },
    "kernelspec": {
      "name": "python3",
      "display_name": "Python 3"
    }
  },
  "nbformat": 4,
  "nbformat_minor": 0
}