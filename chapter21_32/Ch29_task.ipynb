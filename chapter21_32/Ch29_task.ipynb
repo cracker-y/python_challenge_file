{
  "cells": [
    {
      "cell_type": "markdown",
      "metadata": {
        "id": "FXw6GOKwXLxN"
      },
      "source": [
        "주어진 숫자가 짝수인지 확인하는 함수 is_even을 작성하세요. 짝수라면 True를, 아니라면 False를 반환하세요. 함수 내에서 조기 리턴을 활용하세요."
      ]
    },
    {
      "cell_type": "markdown",
      "metadata": {
        "id": "kTYicAqzXLxP"
      },
      "source": []
    },
    {
      "cell_type": "code",
      "source": [
        "# def is_even(num):\n",
        "#     return num % 2 == 0\n",
        "\n",
        "def is_even(num):\n",
        "    if num % 2 == 0:\n",
        "        return True\n",
        "\n",
        "    return False\n",
        "\n",
        "# 4번만 돌려보겠습니다\n",
        "for i in range(0, 4):\n",
        "    num = int(input(\"숫자를 입력하면 짝수인지 홀수인지 확인 할 수 있습니다 > \\n\"))\n",
        "\n",
        "    if is_even(num):\n",
        "        print(f'{num} <-- 이숫자는 짝수입니다.\\n')\n",
        "    else:\n",
        "        print(f'{num} <-- 이숫자는 홀수입니다.\\n')\n",
        "\n",
        "\n"
      ],
      "metadata": {
        "colab": {
          "base_uri": "https://localhost:8080/"
        },
        "id": "_wzjCLgLiI5j",
        "outputId": "9becb691-33da-4fe1-aa4f-bd48e7233686"
      },
      "execution_count": 8,
      "outputs": [
        {
          "output_type": "stream",
          "name": "stdout",
          "text": [
            "숫자를 입력하면 짝수인지 홀수인지 확인 할 수 있습니다 > \n",
            "8823471\n",
            "8823471 <-- 이숫자는 홀수입니다.\n",
            "\n",
            "숫자를 입력하면 짝수인지 홀수인지 확인 할 수 있습니다 > \n",
            "8283478\n",
            "8283478 <-- 이숫자는 짝수입니다.\n",
            "\n",
            "숫자를 입력하면 짝수인지 홀수인지 확인 할 수 있습니다 > \n",
            "8823749\n",
            "8823749 <-- 이숫자는 홀수입니다.\n",
            "\n",
            "숫자를 입력하면 짝수인지 홀수인지 확인 할 수 있습니다 > \n",
            "823762\n",
            "823762 <-- 이숫자는 짝수입니다.\n",
            "\n"
          ]
        }
      ]
    }
  ],
  "metadata": {
    "language_info": {
      "name": "python"
    },
    "colab": {
      "provenance": []
    },
    "kernelspec": {
      "name": "python3",
      "display_name": "Python 3"
    }
  },
  "nbformat": 4,
  "nbformat_minor": 0
}