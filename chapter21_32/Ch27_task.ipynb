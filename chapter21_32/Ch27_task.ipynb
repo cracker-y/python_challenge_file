{
  "cells": [
    {
      "cell_type": "markdown",
      "metadata": {
        "id": "K8Qo71B9VkjT"
      },
      "source": [
        "두 숫자를 더하는 람다 함수를 작성하고, 이를 변수에 할당한 후 사용하세요."
      ]
    },
    {
      "cell_type": "markdown",
      "metadata": {
        "id": "HHDDjGJgVkjV"
      },
      "source": []
    },
    {
      "cell_type": "code",
      "source": [
        "add = lambda a, b: a + b\n",
        "\n",
        "print(f'3 + 4: = {add(3,4)}')"
      ],
      "metadata": {
        "colab": {
          "base_uri": "https://localhost:8080/"
        },
        "id": "TgkEQ8PJcWXF",
        "outputId": "fc9c00bc-6376-4bc4-f5b1-4d1762a979f6"
      },
      "execution_count": 1,
      "outputs": [
        {
          "output_type": "stream",
          "name": "stdout",
          "text": [
            "3 + 4: = 7\n"
          ]
        }
      ]
    }
  ],
  "metadata": {
    "language_info": {
      "name": "python"
    },
    "colab": {
      "provenance": []
    },
    "kernelspec": {
      "name": "python3",
      "display_name": "Python 3"
    }
  },
  "nbformat": 4,
  "nbformat_minor": 0
}