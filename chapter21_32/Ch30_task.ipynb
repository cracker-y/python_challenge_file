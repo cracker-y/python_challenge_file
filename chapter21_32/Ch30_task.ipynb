{
  "cells": [
    {
      "cell_type": "markdown",
      "metadata": {
        "id": "1ztmwfifXMnY"
      },
      "source": [
        "팩토리얼을 계산하는 재귀 함수 factorial을 작성하세요."
      ]
    },
    {
      "cell_type": "markdown",
      "metadata": {
        "id": "BxA7mdY_XMna"
      },
      "source": []
    },
    {
      "cell_type": "code",
      "source": [
        "# 30 ~ 32 , Chapter0132_task\n",
        "\n",
        "# 내일 이어서 다시 제출 하겠습니다!!"
      ],
      "metadata": {
        "id": "T4jyENLckXvf"
      },
      "execution_count": null,
      "outputs": []
    }
  ],
  "metadata": {
    "language_info": {
      "name": "python"
    },
    "colab": {
      "provenance": []
    }
  },
  "nbformat": 4,
  "nbformat_minor": 0
}