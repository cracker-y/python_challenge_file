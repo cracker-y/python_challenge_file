{
  "cells": [
    {
      "cell_type": "markdown",
      "metadata": {
        "id": "1ztmwfifXMnY"
      },
      "source": [
        "팩토리얼을 계산하는 재귀 함수 factorial을 작성하세요."
      ]
    },
    {
      "cell_type": "markdown",
      "metadata": {
        "id": "BxA7mdY_XMna"
      },
      "source": []
    },
    {
      "cell_type": "code",
      "source": [
        "def factorial(n):\n",
        "    if n == 1:\n",
        "        print(f'{n} = ', end=\"\")\n",
        "        return 1\n",
        "    print(f'{n} x ', end=\"\")\n",
        "    return n * factorial(n-1)\n",
        "print(f'5 팩토리얼')\n",
        "print(factorial(5))"
      ],
      "metadata": {
        "id": "T4jyENLckXvf",
        "colab": {
          "base_uri": "https://localhost:8080/"
        },
        "outputId": "1b213595-d6a8-4f39-9b78-f1463989b846"
      },
      "execution_count": 7,
      "outputs": [
        {
          "output_type": "stream",
          "name": "stdout",
          "text": [
            "5 팩토리얼\n",
            "5 x 4 x 3 x 2 x 1 = 120\n"
          ]
        }
      ]
    }
  ],
  "metadata": {
    "language_info": {
      "name": "python"
    },
    "colab": {
      "provenance": []
    },
    "kernelspec": {
      "name": "python3",
      "display_name": "Python 3"
    }
  },
  "nbformat": 4,
  "nbformat_minor": 0
}