{
  "cells": [
    {
      "cell_type": "markdown",
      "metadata": {
        "id": "Y999762sVlFC"
      },
      "source": [
        "사용자로부터 3개의 숫자를 입력받아, 이를 튜플로 만든 후 최소값과 최대값을 출력하는 함수 min_max를 작성하세요."
      ]
    },
    {
      "cell_type": "markdown",
      "metadata": {
        "id": "OOf-LgRYVlFE"
      },
      "source": []
    },
    {
      "cell_type": "code",
      "source": [
        "def min_max(a, b, c):\n",
        "    num = (a, b, c)\n",
        "    print(num) # 정상적으로 값이 들어 갔는지 확인 하기 위해서\n",
        "    print(f'최대값: {max(num)}, 최소값: {min(num)}')\n",
        "\n",
        "# 3개 초과로 입력시를 방지 하기위한 슬라이싱\n",
        "a, b, c = list(map(int, input(\"3개의 숫자를 입력해주세요. 여려개 입력시 (,)콤마 사용하세요 > \").split(',')))[0:3]\n",
        "print()\n",
        "min_max(a, b, c)\n"
      ],
      "metadata": {
        "colab": {
          "base_uri": "https://localhost:8080/"
        },
        "id": "XbV-nEP-dNkO",
        "outputId": "569c8bf2-65e8-42b4-9353-4081ec601b39"
      },
      "execution_count": 22,
      "outputs": [
        {
          "output_type": "stream",
          "name": "stdout",
          "text": [
            "3개의 숫자를 입력해주세요. 여려개 입력시 (,)콤마 사용하세요 > 20, 3, 10, 40, 300, 249, 456\n",
            "\n",
            "(20, 3, 10)\n",
            "최대값: 20, 최소값: 3\n"
          ]
        }
      ]
    }
  ],
  "metadata": {
    "language_info": {
      "name": "python"
    },
    "colab": {
      "provenance": []
    },
    "kernelspec": {
      "name": "python3",
      "display_name": "Python 3"
    }
  },
  "nbformat": 4,
  "nbformat_minor": 0
}