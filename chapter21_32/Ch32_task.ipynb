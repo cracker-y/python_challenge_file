{
  "cells": [
    {
      "cell_type": "markdown",
      "metadata": {
        "id": "-uhfzeYMgwbD"
      },
      "source": [
        "두 문자열을 받아서 긴 문자열을 반환하는 함수 longer_string을 작성하세요. 만약 두 문자열의 길이가 같다면, 첫 번째 문자열을 반환하세요."
      ]
    },
    {
      "cell_type": "markdown",
      "metadata": {
        "id": "4T6PAbJjgwbF"
      },
      "source": []
    },
    {
      "cell_type": "code",
      "source": [
        "def longer_string(str1:str, str2:str) -> str:\n",
        "    if len(str1) == len(str2):\n",
        "        return str1\n",
        "\n",
        "    if len(str1) > len(str2):\n",
        "        return str1\n",
        "    return str2\n",
        "\n",
        "string1, string2 = \"누가더길까\", \"내가더길껄?\"\n",
        "print(f'1차: {longer_string(string1, string2)}        // string1 길이: {len(string1)}, string2 길이: {len(string2)}')\n",
        "\n",
        "string1, string2 = \"우린같아\", \"그래맞아\"\n",
        "print(f'2차: {longer_string(string1, string2)}          // string1 길이: {len(string1)}, string2 길이: {len(string2)}')\n",
        "\n",
        "# 대화 흐름상 string2를 앞으로 보냈습니다\n",
        "string2, string1 = \"옹?근데 머가 같아?\", \"문자열 길이가 같아!\"\n",
        "print(f'3차: {longer_string(string2, string1)} // string2 길이: {len(string2)}, string1 길이: {len(string1)}')\n",
        "\n"
      ],
      "metadata": {
        "colab": {
          "base_uri": "https://localhost:8080/"
        },
        "id": "jx5ski0f4-JY",
        "outputId": "a3c687c1-b9d0-4e46-8bc6-3dcc9a85e0ac"
      },
      "execution_count": 15,
      "outputs": [
        {
          "output_type": "stream",
          "name": "stdout",
          "text": [
            "1차: 내가더길껄?        // string1 길이: 5, string2 길이: 6\n",
            "2차: 우린같아          // string1 길이: 4, string2 길이: 4\n",
            "3차: 옹?근데 머가 같아? // string2 길이: 11, string1 길이: 11\n"
          ]
        }
      ]
    }
  ],
  "metadata": {
    "language_info": {
      "name": "python"
    },
    "colab": {
      "provenance": []
    },
    "kernelspec": {
      "name": "python3",
      "display_name": "Python 3"
    }
  },
  "nbformat": 4,
  "nbformat_minor": 0
}