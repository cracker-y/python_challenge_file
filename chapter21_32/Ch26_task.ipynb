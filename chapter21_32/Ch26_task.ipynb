{
  "cells": [
    {
      "cell_type": "markdown",
      "metadata": {
        "id": "2F6kA6scVkJf"
      },
      "source": [
        "0부터 시작하여 n까지의 숫자 중에서 홀수만 생성하는 제너레이터 odd_numbers를 작성하세요."
      ]
    },
    {
      "cell_type": "markdown",
      "metadata": {
        "id": "ciFimmDHVkJh"
      },
      "source": []
    },
    {
      "cell_type": "code",
      "source": [
        "# def odd_numbers(n):\n",
        "#     addNumber = []\n",
        "#     for i in range(0, n):\n",
        "#         if not i % 2 == 0:\n",
        "#             addNumber.append(i)\n",
        "#     return addNumber\n",
        "# print(odd_numbers(10))\n",
        "\n",
        "\n",
        "# 갑자기 생각이 났습니다 다른 방법이\n",
        "# print(list(range(0, 10)))  <- 요렇게 출력 해보다가 혹시나 될꺼 같아서 만들어 봤습니다!!\n",
        "# def odd_numbers(n):\n",
        "#     oddNumberList = list(filter(lambda i: i % 2, range(0, n)))\n",
        "#     return oddNumberList\n",
        "\n",
        "# print(f'홀수 출력: {odd_numbers(10)}')\n",
        "\n",
        "# @#$%@#$%@#$^&@#$%\n",
        "# 문장을 잘 안읽었습니다 ' 제너레이터 ' 로 다시 작성해보겠습니다\n",
        "\n",
        "def odd_even_numbers(n=0):\n",
        "    empList = list(range(0, n))\n",
        "\n",
        "    yield list(filter(lambda i: not i%2==0, empList))\n",
        "    yield list(filter(lambda i: i%2==0, empList))\n",
        "\n",
        "# 짝수 홀수 선택 함수\n",
        "def selecter():\n",
        "    selectNumber = input(\"1.홀수 변환기 2.짝수 변환기\\n\")\n",
        "\n",
        "    if '1' == selectNumber:\n",
        "        print(\"홀수 변환기를 선택 하셨습니다.\")\n",
        "    if '2' == selectNumber:\n",
        "        print(\"짝수 변환기를 선택 하셨습니다.\")\n",
        "\n",
        "    length = input(\"0 부터 어디까지 변환하고 싶으신가요? > \\n\")\n",
        "\n",
        "    # 제너레이터 시작\n",
        "    func = odd_even_numbers(int(length)+1)\n",
        "    for i in range(0, int(selectNumber)):\n",
        "        result = next(func)\n",
        "    print(result)\n",
        "\n",
        "selecter()\n",
        "while True:\n",
        "    isRunInput = input(\"계속 하시겠습니까? (y, n)\")\n",
        "    if 'y' == isRunInput:\n",
        "        selecter()\n",
        "        continue\n",
        "    break\n",
        "print(\"종료합니다.\")"
      ],
      "metadata": {
        "colab": {
          "base_uri": "https://localhost:8080/"
        },
        "id": "wIIUGzUkXN26",
        "outputId": "21ef58c2-6c6f-4c76-d83e-41b83a6cc44f"
      },
      "execution_count": 4,
      "outputs": [
        {
          "output_type": "stream",
          "name": "stdout",
          "text": [
            "1.홀수 변환기 2.짝수 변환기\n",
            "1\n",
            "홀수 변환기를 선택 하셨습니다.\n",
            "0 부터 어디까지 변환하고 싶으신가요? > \n",
            "20\n",
            "[1, 3, 5, 7, 9, 11, 13, 15, 17, 19]\n",
            "계속 하시겠습니까? (y, n)y\n",
            "1.홀수 변환기 2.짝수 변환기\n",
            "2\n",
            "짝수 변환기를 선택 하셨습니다.\n",
            "0 부터 어디까지 변환하고 싶으신가요? > \n",
            "20\n",
            "[0, 2, 4, 6, 8, 10, 12, 14, 16, 18, 20]\n",
            "계속 하시겠습니까? (y, n)n\n",
            "종료합니다.\n"
          ]
        }
      ]
    }
  ],
  "metadata": {
    "language_info": {
      "name": "python"
    },
    "colab": {
      "provenance": []
    },
    "kernelspec": {
      "name": "python3",
      "display_name": "Python 3"
    }
  },
  "nbformat": 4,
  "nbformat_minor": 0
}