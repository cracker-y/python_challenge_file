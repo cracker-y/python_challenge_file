{
  "cells": [
    {
      "cell_type": "markdown",
      "metadata": {
        "id": "2F6kA6scVkJf"
      },
      "source": [
        "0부터 시작하여 n까지의 숫자 중에서 홀수만 생성하는 제너레이터 odd_numbers를 작성하세요."
      ]
    },
    {
      "cell_type": "markdown",
      "metadata": {
        "id": "ciFimmDHVkJh"
      },
      "source": []
    },
    {
      "cell_type": "code",
      "source": [
        "# def odd_numbers(n):\n",
        "#     addNumber = []\n",
        "#     for i in range(0, n):\n",
        "#         if not i % 2 == 0:\n",
        "#             addNumber.append(i)\n",
        "#     return addNumber\n",
        "# print(odd_numbers(10))\n",
        "\n",
        "\n",
        "# 갑자기 생각이 났습니다 다른 방법이\n",
        "# print(list(range(0, 10)))  <- 요렇게 출력 해보다가 혹시나 될꺼 같아서 만들어 봤습니다!!\n",
        "def odd_numbers(n):\n",
        "    oddNumberList = list(filter(lambda i: i % 2, range(0, n)))\n",
        "    return oddNumberList\n",
        "\n",
        "print(f'홀수 출력: {odd_numbers(10)}')"
      ],
      "metadata": {
        "colab": {
          "base_uri": "https://localhost:8080/"
        },
        "id": "wIIUGzUkXN26",
        "outputId": "61f7562c-8d21-4ca4-8f9a-0d4fe2d71dcf"
      },
      "execution_count": 9,
      "outputs": [
        {
          "output_type": "stream",
          "name": "stdout",
          "text": [
            "홀수 출력: [1, 3, 5, 7, 9]\n"
          ]
        }
      ]
    }
  ],
  "metadata": {
    "language_info": {
      "name": "python"
    },
    "colab": {
      "provenance": []
    },
    "kernelspec": {
      "name": "python3",
      "display_name": "Python 3"
    }
  },
  "nbformat": 4,
  "nbformat_minor": 0
}