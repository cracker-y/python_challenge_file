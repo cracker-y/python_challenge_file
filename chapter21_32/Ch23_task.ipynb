{
  "cells": [
    {
      "cell_type": "markdown",
      "metadata": {
        "id": "Ox6cW7M2l32G"
      },
      "source": [
        "사용자의 이름을 출력하는 함수 print_name을 작성하세요. 만약 이름이 주어지지 않았다면, 기본값으로 \"익명\"을 사용하세요."
      ]
    },
    {
      "cell_type": "markdown",
      "metadata": {
        "id": "7Rn5oJUAl32J"
      },
      "source": []
    },
    {
      "cell_type": "code",
      "source": [
        "def print_name(name=\"익명\"):\n",
        "    print(f\"사용자 이름: {name}\")\n",
        "\n",
        "print_name(\"cracker\")\n",
        "print()\n",
        "print_name()"
      ],
      "metadata": {
        "colab": {
          "base_uri": "https://localhost:8080/"
        },
        "id": "VfNR_bFAUnmT",
        "outputId": "34b4ff12-8a23-419e-8693-823763b4a111"
      },
      "execution_count": 2,
      "outputs": [
        {
          "output_type": "stream",
          "name": "stdout",
          "text": [
            "사용자 이름: cracker\n",
            "\n",
            "사용자 이름: 익명\n"
          ]
        }
      ]
    }
  ],
  "metadata": {
    "language_info": {
      "name": "python"
    },
    "colab": {
      "provenance": []
    },
    "kernelspec": {
      "name": "python3",
      "display_name": "Python 3"
    }
  },
  "nbformat": 4,
  "nbformat_minor": 0
}