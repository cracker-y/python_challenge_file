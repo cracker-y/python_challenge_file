{
  "cells": [
    {
      "cell_type": "markdown",
      "metadata": {
        "id": "U5EvoUwJYOTd"
      },
      "source": [
        "여러 숫자를 입력받아 그 합계를 반환하는 함수 sum_numbers를 작성하세요. 이 때, 가변 매개변수를 사용하세요."
      ]
    },
    {
      "cell_type": "markdown",
      "metadata": {
        "id": "wvMoCC7CYOTf"
      },
      "source": []
    },
    {
      "cell_type": "code",
      "source": [
        "# def sum_numbers(*number):\n",
        "#     # int 타입과 str 타입을 분리해서 인트 타입만 계산하게 필터처리했습니다.\n",
        "#     numberList = filter(lambda i: type(i) == type(int()), number)\n",
        "#     print(\"왜 안나와\", numberList)\n",
        "#     # sum = sum(list(numberList))  <--- 이상하군\n",
        "#     return sum\n",
        "\n",
        "def sum_numbers(*number):\n",
        "    # int 타입과 str 타입을 분리해서 인트 타입만 계산하게 필터처리했습니다.\n",
        "    numberList = list(filter(lambda i: type(i) == type(int()), number))\n",
        "    result = sum(numberList)\n",
        "    return result\n",
        "\n",
        "getSumNumbers = sum_numbers(1,2,3,4,'5',6,'7,8',9,10)\n",
        "print(f'sum: {getSumNumbers}')\n",
        "\n",
        "# print(f'aT: {type(1)}, bT: {type(int())} : {type(1) == type(int())}')"
      ],
      "metadata": {
        "colab": {
          "base_uri": "https://localhost:8080/"
        },
        "id": "ykA-u9dcYQMd",
        "outputId": "f2c57a04-43b1-4b53-c863-c5d0f9d2faaa"
      },
      "execution_count": 33,
      "outputs": [
        {
          "output_type": "stream",
          "name": "stdout",
          "text": [
            "sum: 35\n"
          ]
        }
      ]
    }
  ],
  "metadata": {
    "language_info": {
      "name": "python"
    },
    "colab": {
      "provenance": []
    },
    "kernelspec": {
      "name": "python3",
      "display_name": "Python 3"
    }
  },
  "nbformat": 4,
  "nbformat_minor": 0
}