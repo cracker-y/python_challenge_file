{
  "cells": [
    {
      "cell_type": "markdown",
      "metadata": {
        "id": "6Jy3nmrfgwNd"
      },
      "source": [
        "문자열 리스트를 받아, 각 문자열의 길이를 출력하는 함수 print_lengths를 작성하세요."
      ]
    },
    {
      "cell_type": "markdown",
      "metadata": {
        "id": "-PH99dTLgwNe"
      },
      "source": []
    },
    {
      "cell_type": "code",
      "source": [
        "# 문자열의 길이를 알려주는 len 마법의 map 클래스\n",
        "def print_lengths(strList: list)->list:\n",
        "    return list(map(len, strList))\n",
        "\n",
        "stringList = [\"가\", \"나다\", \"라마바\", \"사아자차\", \"카타파'하이'\"]\n",
        "print(f'print_lengths : {print_lengths(stringList)}')\n",
        "# 갑자기 거꾸로도 한번 출력해보았습니다.\n",
        "print(f'거꾸로 로꾸꺼 :    {print_lengths(reversed(stringList))}')\n",
        "\n",
        "# 같은결과로 하나더 만들어 보았습니다.\n",
        "def print_lengths2(strList: list) -> list:\n",
        "    empList = []\n",
        "    for i in strList:\n",
        "        empList.append(len(i))\n",
        "    return empList\n",
        "\n",
        "print(f'print_lengths2 : {print_lengths2(stringList)}')\n",
        ""
      ],
      "metadata": {
        "colab": {
          "base_uri": "https://localhost:8080/"
        },
        "id": "2l4-mb5KuB09",
        "outputId": "6f93f929-d3a9-476b-8c2d-943c6f9db2e8"
      },
      "execution_count": 8,
      "outputs": [
        {
          "output_type": "stream",
          "name": "stdout",
          "text": [
            "print_lengths : [1, 2, 3, 4, 7]\n",
            "거꾸로 로꾸꺼 :    [7, 4, 3, 2, 1]\n",
            "print_lengths2 : [1, 2, 3, 4, 7]\n"
          ]
        }
      ]
    }
  ],
  "metadata": {
    "language_info": {
      "name": "python"
    },
    "colab": {
      "provenance": []
    },
    "kernelspec": {
      "name": "python3",
      "display_name": "Python 3"
    }
  },
  "nbformat": 4,
  "nbformat_minor": 0
}