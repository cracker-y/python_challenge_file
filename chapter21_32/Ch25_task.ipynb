{
  "cells": [
    {
      "cell_type": "markdown",
      "metadata": {
        "id": "vO6YzrfxVjpu"
      },
      "source": [
        "두 개의 정수를 받아 합을 반환하는 함수 add를 작성하세요. 매개변수와 반환값에 타입 어노테이션을 추가하세요."
      ]
    },
    {
      "cell_type": "markdown",
      "metadata": {
        "id": "tkLfYqu2Vjpv"
      },
      "source": []
    },
    {
      "cell_type": "code",
      "source": [
        "def add(a: int, b: int) -> int:\n",
        "    return a + b\n",
        "\n",
        "intA : int = 3\n",
        "intB : int = 4\n",
        "print(\"정수 값만 받을 수 있습니다\")\n",
        "print(f'a = 3, b = 4  ::  3 + 4 = {add(intA,intB)}')"
      ],
      "metadata": {
        "colab": {
          "base_uri": "https://localhost:8080/"
        },
        "id": "1b2vpPfdVz47",
        "outputId": "d062f648-a834-4a8a-e614-add47794cd06"
      },
      "execution_count": 1,
      "outputs": [
        {
          "output_type": "stream",
          "name": "stdout",
          "text": [
            "정수 값만 받을 수 있습니다\n",
            "a = 3, b = 4  ::  3 + 4 = 7\n"
          ]
        }
      ]
    }
  ],
  "metadata": {
    "language_info": {
      "name": "python"
    },
    "colab": {
      "provenance": []
    },
    "kernelspec": {
      "name": "python3",
      "display_name": "Python 3"
    }
  },
  "nbformat": 4,
  "nbformat_minor": 0
}