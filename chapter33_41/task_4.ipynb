{
  "cells": [
    {
      "cell_type": "markdown",
      "metadata": {
        "id": "djHijOr1nAwu"
      },
      "source": [
        "사용자 정의 예외 NegativeNumberError를 생성하고, 사용자로부터 숫자를 입력받아 음수일 경우 NegativeNumberError를 발생시키는 프로그램을 작성하세요.\n",
        "\n",
        "- 예외 처리 구문을 사용하여 음수 입력 시 \"양수를 입력해주세요.\"라는 메시지를 출력"
      ]
    },
    {
      "cell_type": "code",
      "source": [
        "class NegativeNumberError(Exception):\n",
        "    def __init__(self):\n",
        "        super().__init__(\"양수를 입력하세요.\")\n",
        "\n",
        "while True:\n",
        "    try:\n",
        "        inputNumber = input(\"숫자를 입력해주세요 > \\n\").split(', ')[0]\n",
        "        if 0 >= int(inputNumber):\n",
        "            raise NegativeNumberError\n",
        "        print(f'정수 출력: {int(inputNumber)}')\n",
        "    except NegativeNumberError as e:\n",
        "        print(f'err!! {e}')\n",
        "    except ValueError:\n",
        "        if 'done' in inputNumber:\n",
        "            print(\"종료합니다.\")\n",
        "            break"
      ],
      "metadata": {
        "colab": {
          "base_uri": "https://localhost:8080/"
        },
        "id": "0aVttVS6YM1V",
        "outputId": "e6d217a5-3120-4832-a5f7-fe2859c333f7"
      },
      "execution_count": 9,
      "outputs": [
        {
          "output_type": "stream",
          "name": "stdout",
          "text": [
            "숫자를 입력해주세요 > \n",
            "1\n",
            "정수 출력: 1\n",
            "숫자를 입력해주세요 > \n",
            "123\n",
            "정수 출력: 123\n",
            "숫자를 입력해주세요 > \n",
            "-1\n",
            "err!! 양수를 입력하세요.\n",
            "숫자를 입력해주세요 > \n",
            "-123\n",
            "err!! 양수를 입력하세요.\n",
            "숫자를 입력해주세요 > \n",
            "done\n",
            "종료합니다.\n"
          ]
        }
      ]
    }
  ],
  "metadata": {
    "language_info": {
      "name": "python"
    },
    "colab": {
      "provenance": []
    },
    "kernelspec": {
      "name": "python3",
      "display_name": "Python 3"
    }
  },
  "nbformat": 4,
  "nbformat_minor": 0
}