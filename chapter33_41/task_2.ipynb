{
  "nbformat": 4,
  "nbformat_minor": 0,
  "metadata": {
    "colab": {
      "provenance": []
    },
    "kernelspec": {
      "name": "python3",
      "display_name": "Python 3"
    },
    "language_info": {
      "name": "python"
    }
  },
  "cells": [
    {
      "cell_type": "markdown",
      "source": [
        "파일을 읽어서 내용을 출력하는 프로그램을 작성하세요.\n",
        "\n",
        "- 파일이 존재하지 않을 때 발생하는 FileNotFoundError를 처리\n",
        "- 파일이 존재하지 않을 경우 \"파일을 찾을 수 없습니다.\"라는 메시지를 출력"
      ],
      "metadata": {
        "id": "em1msW5a7PtS"
      }
    },
    {
      "cell_type": "code",
      "source": [
        "ls"
      ],
      "metadata": {
        "colab": {
          "base_uri": "https://localhost:8080/"
        },
        "id": "aDeDBDbm7Rb5",
        "outputId": "1fbb1ad7-d533-4115-8658-cc7990b7f588"
      },
      "execution_count": 10,
      "outputs": [
        {
          "output_type": "stream",
          "name": "stdout",
          "text": [
            "test3.csv  test.txt\n"
          ]
        }
      ]
    },
    {
      "cell_type": "code",
      "source": [
        "# txt 파일만 읽을수 있습니다.\n",
        "\n",
        "while True:\n",
        "    try:\n",
        "        # 확장자를 빼고 파일명만 불러오기위한 split\n",
        "        fileName = input(\"파일 이름을 입력하세요(txt 파일만 사용합니다.) > \").split('.')[0]\n",
        "\n",
        "        if 'q' in fileName:\n",
        "            break\n",
        "\n",
        "        file_name = f\"{fileName}.txt\"\n",
        "        file = open(f'{file_name}', 'r')\n",
        "\n",
        "        view = file.read()\n",
        "        print(\"===파일 내용===\")\n",
        "        print(view)\n",
        "        file.close()\n",
        "    except FileNotFoundError:\n",
        "        print(f\"{fileName} <- 이 파일이 존재하지 않습니다.\")"
      ],
      "metadata": {
        "colab": {
          "base_uri": "https://localhost:8080/"
        },
        "id": "bnByVUwz7-Ws",
        "outputId": "0b5bffc8-a77d-44a4-d922-35de3817b9d4"
      },
      "execution_count": 13,
      "outputs": [
        {
          "name": "stdout",
          "output_type": "stream",
          "text": [
            "파일 이름을 입력하세요(txt 파일만 사용합니다.) > 이파일있니\n",
            "이파일있니 <- 이 파일이 존재하지 않습니다.\n",
            "파일 이름을 입력하세요(txt 파일만 사용합니다.) > test\n",
            "===파일 내용===\n",
            "102030\n",
            "파일 이름을 입력하세요(txt 파일만 사용합니다.) > q\n"
          ]
        }
      ]
    }
  ]
}