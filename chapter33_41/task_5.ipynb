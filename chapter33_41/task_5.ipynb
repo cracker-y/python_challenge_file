{
  "cells": [
    {
      "cell_type": "markdown",
      "metadata": {
        "id": "ppVjZN1pYP-L"
      },
      "source": [
        "datetime 모듈을 사용하여 현재 날짜와 시간을 출력하는 프로그램을 작성하세요.\n",
        "\n",
        "또한, 사용자로부터 태어난 년도를 입력받아 현재 나이를 계산하여 출력하세요."
      ]
    },
    {
      "cell_type": "code",
      "execution_count": 5,
      "metadata": {
        "colab": {
          "base_uri": "https://localhost:8080/"
        },
        "id": "Pp42-9gPatLv",
        "outputId": "b9d5e2e9-30c4-4dfa-e5e5-e6ee7e9ca0b2"
      },
      "outputs": [
        {
          "name": "stdout",
          "output_type": "stream",
          "text": [
            "1. 현재 날짜와 시간을 출력  2. 나이 계산기 (한국 나이 기준)\n",
            "1\n",
            "현재 날짜: 2025-01-11 09시 14분\n",
            "1. 현재 날짜와 시간을 출력  2. 나이 계산기 (한국 나이 기준)\n",
            "2\n",
            "태어난 연도를 입력해주세요.>\n",
            "2024\n",
            "결과: 2 이유식 중입니다.\n",
            "1. 현재 날짜와 시간을 출력  2. 나이 계산기 (한국 나이 기준)\n",
            "done\n",
            "종료합니다.\n"
          ]
        }
      ],
      "source": [
        "from datetime import datetime\n",
        "now = datetime.now()\n",
        "\n",
        "inputMessage = \"1. 현재 날짜와 시간을 출력  2. 나이 계산기 (한국 나이 기준)\\n\"\n",
        "\n",
        "# 현재 날짜와 시간을 출력하는 함수\n",
        "def showCurrentDateTime():\n",
        "    day = now.date()\n",
        "    # time = now.time()\n",
        "    time = now.strftime('%H시 %M분')\n",
        "    print(f'현재 날짜: {day} {time}')\n",
        "\n",
        "# 년도를 받아오면 현재 나이를 계산해주는 함수\n",
        "def calculateAge(year):\n",
        "    nowYear = now.year\n",
        "    result = (nowYear - year) + 1\n",
        "    print(f'결과: {result} ', end=\"\")\n",
        "\n",
        "    if 18 <= result:\n",
        "        print('성인 입니다.')\n",
        "    else:\n",
        "        if 2 >= result:\n",
        "            print('이유식 중입니다.')\n",
        "            return\n",
        "        print('미성년 입니다.')\n",
        "\n",
        "# input이 두개여서 함수로 만들어보았습니다.\n",
        "def getInputNumber(message, count = 0):\n",
        "    return input(message).split(', ')[count]\n",
        "\n",
        "while True:\n",
        "    try:\n",
        "        inputNumber = getInputNumber(inputMessage)\n",
        "        # 숫자 아닌 문자 입력시 예외 처리용\n",
        "        checkNumber = int(inputNumber)\n",
        "        # 현재 시간\n",
        "        if 1 == checkNumber:\n",
        "            showCurrentDateTime()\n",
        "        # 나이 계산기\n",
        "        if 2 == checkNumber:\n",
        "            inputNumber = getInputNumber(\"태어난 연도를 입력해주세요.>\\n\")\n",
        "            calculateAge(int(inputNumber))\n",
        "\n",
        "    except ValueError:\n",
        "        if 'done' in inputNumber:\n",
        "            print('종료합니다.')\n",
        "            break\n",
        "        print('숫자를 입력해주세요')\n",
        "        print(inputMessage)"
      ]
    }
  ],
  "metadata": {
    "colab": {
      "provenance": []
    },
    "kernelspec": {
      "display_name": "Python 3",
      "name": "python3"
    },
    "language_info": {
      "name": "python"
    }
  },
  "nbformat": 4,
  "nbformat_minor": 0
}
