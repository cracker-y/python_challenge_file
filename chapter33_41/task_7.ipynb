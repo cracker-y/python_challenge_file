{
  "cells": [
    {
      "cell_type": "markdown",
      "metadata": {
        "id": "M6XZ4_4lamtN"
      },
      "source": [
        "함수 실행 시간을 측정하는 데코레이터 timer_decorator를 작성하세요.\n",
        "\n",
        "임의의 함수가 실행되는 시간을 측정하여 \"함수 실행 시간: x.xx초\" 형태로 출력하세요."
      ]
    },
    {
      "cell_type": "markdown",
      "metadata": {
        "id": "Mx1GaXSTamtP"
      },
      "source": []
    },
    {
      "cell_type": "code",
      "source": [
        "import time\n",
        "\n",
        "now = time\n",
        "\n",
        "def timer_decorator(function):\n",
        "    startTime = now.time()\n",
        "    function()\n",
        "    endTime = now.time()\n",
        "    resultTime = endTime-startTime\n",
        "    # 소수점이 너무길어서 3자리까지 표시 했습니다.\n",
        "    print(f\"함수 실행 시간: {resultTime:.3f} sec\")\n",
        "\n",
        "def cracker0dl():\n",
        "    count = 0\n",
        "    for i in range(0, 100):\n",
        "        count += i\n",
        "    # 임의로 시간을 늦추고있습니다.\n",
        "    time.sleep(3)\n",
        "\n",
        "timer_decorator(cracker0dl)"
      ],
      "metadata": {
        "colab": {
          "base_uri": "https://localhost:8080/"
        },
        "id": "SOYbiuXdt_xh",
        "outputId": "9cc7afb9-b70e-43c4-968f-af477c2c53b1"
      },
      "execution_count": 1,
      "outputs": [
        {
          "output_type": "stream",
          "name": "stdout",
          "text": [
            "함수 실행 시간: 3.003 sec\n"
          ]
        }
      ]
    }
  ],
  "metadata": {
    "language_info": {
      "name": "python"
    },
    "colab": {
      "provenance": []
    },
    "kernelspec": {
      "name": "python3",
      "display_name": "Python 3"
    }
  },
  "nbformat": 4,
  "nbformat_minor": 0
}