{
  "cells": [
    {
      "cell_type": "markdown",
      "metadata": {
        "id": "ENwiq1Os5DhI"
      },
      "source": [
        "사용자로부터 두 개의 숫자를 입력받아 나눗셈을 수행하는 프로그램을 작성하세요.\n",
        "\n",
        "[예외처리]\n",
        "- 입력 값이 숫자가 아닐 때 발생할 수 있는 ValueError\n",
        "- 나누는 수가 0일 때 발생할 수 있는 ZeroDivisionError\n",
        "- 위 2가지 예외처리 후 사용자에게 이해하기 쉬운 메시지 작성 후 출력되도록 코드를 작성"
      ]
    },
    {
      "cell_type": "code",
      "source": [
        "\n",
        "# 결과를 다 보기위한 while\n",
        "while True:\n",
        "    try:\n",
        "        print()\n",
        "        print(\"나눗셈\")\n",
        "        inputNumber = list(map(int, input(\"두수를 입력 하세요> \\n\").split(',')))[0:2]\n",
        "\n",
        "        # while 종료문입니다.\n",
        "        if -1 in inputNumber:\n",
        "            print(\"종료합니다.\")\n",
        "            break\n",
        "\n",
        "        print(f'결과: {inputNumber[0]} ÷ {inputNumber[1]} = {inputNumber[0] / inputNumber[1]}')\n",
        "    except ValueError:\n",
        "        print(\"숫자를 입력해주세요.\")\n",
        "    except ZeroDivisionError:\n",
        "        print(\"0 으로 숫자를 나눌수 없습니다.\")"
      ],
      "metadata": {
        "colab": {
          "base_uri": "https://localhost:8080/"
        },
        "id": "o2H452pY5EsD",
        "outputId": "b92b2c8b-8089-4120-ee9d-7e38cae2d329"
      },
      "execution_count": 13,
      "outputs": [
        {
          "output_type": "stream",
          "name": "stdout",
          "text": [
            "\n",
            "나눗셈\n",
            "두수를 입력 하세요> \n",
            "q\n",
            "숫자를 입력해주세요.\n",
            "\n",
            "나눗셈\n",
            "두수를 입력 하세요> \n",
            "20, 0\n",
            "0 으로 숫자를 나눌수 없습니다.\n",
            "\n",
            "나눗셈\n",
            "두수를 입력 하세요> \n",
            "20, 5\n",
            "결과: 20 ÷ 5 = 4.0\n",
            "\n",
            "나눗셈\n",
            "두수를 입력 하세요> \n",
            "-1\n",
            "종료합니다.\n"
          ]
        }
      ]
    }
  ],
  "metadata": {
    "language_info": {
      "name": "python"
    },
    "colab": {
      "provenance": []
    },
    "kernelspec": {
      "name": "python3",
      "display_name": "Python 3"
    }
  },
  "nbformat": 4,
  "nbformat_minor": 0
}