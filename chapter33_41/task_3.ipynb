{
  "cells": [
    {
      "cell_type": "markdown",
      "metadata": {
        "id": "vSsQNpManCW0"
      },
      "source": [
        "사용자로부터 여러 개의 숫자를 입력받아 리스트에 저장한 후, 사용자가 'done'이라고 입력할 때까지 계속 입력받으세요.\n",
        "\n",
        "- 입력 중 숫자가 아닌 값이 입력되면 ValueError를 처리\n",
        "- 숫자 외 값이 입력된 경우 어떤 값이 잘못 입력되었는지 사용자에게 알려주는 문구 출력<br>\n",
        "  (예: f\"잘못된 값: {변수}. 숫자를 입력해주세요.\")\n",
        "\n"
      ]
    },
    {
      "cell_type": "markdown",
      "metadata": {
        "id": "b5qfY_cQnCW3"
      },
      "source": []
    },
    {
      "cell_type": "code",
      "source": [
        "# 숫자가 담길 공간\n",
        "empList = []\n",
        "\n",
        "# input list\n",
        "valueInput = []\n",
        "\n",
        "# 종료시 finally 출력을 하지 않기 위한 bool\n",
        "isDone = True\n",
        "\n",
        "inputMessage = \"\"\"숫자를 입력하세요 > 낱개, 중복 사용가능(중복 사용시 공백을 사용하세요)\n",
        "done <- 입력시 종료합니다 (** 숫자와 done을 같이 입력시 저장되지 않고 종료합니다)\\n\"\"\"\n",
        "while True:\n",
        "    try:\n",
        "        valueInput = input(inputMessage).split(' ')\n",
        "        # 입력할때마다 리스트 단위로 나뉘지 않게 하려고 더했습니다.\n",
        "        empList += list(map(int, valueInput))\n",
        "    except ValueError:\n",
        "        if 'done' in valueInput:\n",
        "            print()\n",
        "            print(f'최종 숫자 리스트: {empList}')\n",
        "            print('종료합니다')\n",
        "            isDone = False\n",
        "            break\n",
        "        else:\n",
        "            print()\n",
        "            # 숫자 형태의 문자열이 아닌것을 필터링하고 있습니다.\n",
        "            filterList = list(filter(lambda i: not i.isdigit(), valueInput))\n",
        "            print(f'잘못된 값: {filterList}!!')\n",
        "    finally:\n",
        "        if empList:\n",
        "            if isDone:\n",
        "                print()\n",
        "                print(f'현재까지 담긴 숫자: {empList}')\n",
        "                print()"
      ],
      "metadata": {
        "colab": {
          "base_uri": "https://localhost:8080/"
        },
        "id": "7DVPblcB15i4",
        "outputId": "b45dc8de-b752-439b-8fa6-10b49c370ee5"
      },
      "execution_count": 1,
      "outputs": [
        {
          "output_type": "stream",
          "name": "stdout",
          "text": [
            "숫자를 입력하세요 > 낱개, 중복 사용가능(중복 사용시 공백을 사용하세요)\n",
            "done <- 입력시 종료합니다 (** 숫자와 done을 같이 입력시 저장되지 않고 종료합니다)\n",
            "1 2 3 4 5\n",
            "\n",
            "현재까지 담긴 숫자: [1, 2, 3, 4, 5]\n",
            "\n",
            "숫자를 입력하세요 > 낱개, 중복 사용가능(중복 사용시 공백을 사용하세요)\n",
            "done <- 입력시 종료합니다 (** 숫자와 done을 같이 입력시 저장되지 않고 종료합니다)\n",
            "a b c d\n",
            "\n",
            "잘못된 값: ['a', 'b', 'c', 'd']!!\n",
            "\n",
            "현재까지 담긴 숫자: [1, 2, 3, 4, 5]\n",
            "\n",
            "숫자를 입력하세요 > 낱개, 중복 사용가능(중복 사용시 공백을 사용하세요)\n",
            "done <- 입력시 종료합니다 (** 숫자와 done을 같이 입력시 저장되지 않고 종료합니다)\n",
            "1 a 2 b 3 c 4 d\n",
            "\n",
            "잘못된 값: ['a', 'b', 'c', 'd']!!\n",
            "\n",
            "현재까지 담긴 숫자: [1, 2, 3, 4, 5]\n",
            "\n",
            "숫자를 입력하세요 > 낱개, 중복 사용가능(중복 사용시 공백을 사용하세요)\n",
            "done <- 입력시 종료합니다 (** 숫자와 done을 같이 입력시 저장되지 않고 종료합니다)\n",
            "6 7 8\n",
            "\n",
            "현재까지 담긴 숫자: [1, 2, 3, 4, 5, 6, 7, 8]\n",
            "\n",
            "숫자를 입력하세요 > 낱개, 중복 사용가능(중복 사용시 공백을 사용하세요)\n",
            "done <- 입력시 종료합니다 (** 숫자와 done을 같이 입력시 저장되지 않고 종료합니다)\n",
            "123 done\n",
            "\n",
            "최종 숫자 리스트: [1, 2, 3, 4, 5, 6, 7, 8]\n",
            "종료합니다\n"
          ]
        }
      ]
    }
  ],
  "metadata": {
    "language_info": {
      "name": "python"
    },
    "colab": {
      "provenance": []
    },
    "kernelspec": {
      "name": "python3",
      "display_name": "Python 3"
    }
  },
  "nbformat": 4,
  "nbformat_minor": 0
}