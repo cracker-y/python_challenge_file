{
  "cells": [
    {
      "cell_type": "markdown",
      "metadata": {
        "id": "BX7SgOeWu86I"
      },
      "source": [
        "안녕하세요. 수강생 여러분~! Chapter14 ~ 16 수업은 잘 들으셨나요?\n",
        "\n",
        "Chapter14 ~ 16의 수업 내용을 바탕으로 아래 문제를 풀어주시면 됩니다.\n",
        "\n",
        "<br>\n",
        "\n",
        "\n",
        "[**답변 입력 방법**]\n",
        "\n",
        "문제 아래에 있는 코드 입력창에 정답코드를 작성하신 후  __▷ 버튼을 클릭해 코드를 실행__ 해보세요<br>"
      ]
    },
    {
      "cell_type": "markdown",
      "metadata": {
        "id": "COG0dXy0qcXM"
      },
      "source": [
        "---"
      ]
    },
    {
      "cell_type": "markdown",
      "metadata": {
        "id": "7kQJMRuFu-6s"
      },
      "source": [
        "__[문제1]__\n",
        "\n",
        "주어진 정수 x와 자연수 n을 이용해, x부터 시작해 x씩 증가하는 숫자를 n개 지니는 리스트를 출력해주세요   \n",
        "<br>\n",
        "\n",
        "x = 2, n =5"
      ]
    },
    {
      "cell_type": "code",
      "execution_count": 5,
      "metadata": {
        "id": "juUF2KYbu0DX",
        "colab": {
          "base_uri": "https://localhost:8080/"
        },
        "outputId": "3bef7a6e-28dc-4c07-d5ce-efccb89be89d"
      },
      "outputs": [
        {
          "output_type": "stream",
          "name": "stdout",
          "text": [
            "[2, 4, 6, 8, 10]\n"
          ]
        }
      ],
      "source": [
        "list = []\n",
        "x, n = 2, 5\n",
        "for i in range(x, x*n +1, x):\n",
        "    list.append(i)\n",
        "\n",
        "print(list)"
      ]
    },
    {
      "cell_type": "markdown",
      "metadata": {
        "id": "w-oOaCPRqcXN"
      },
      "source": [
        "---"
      ]
    },
    {
      "cell_type": "markdown",
      "metadata": {
        "id": "4BPXMLXUvBVL"
      },
      "source": [
        "__[문제2]__\n",
        "\n",
        "전화번호가 문자열 phone_number로 주어졌을 때, 전화번호의 뒷 4자리를 *으로 가린 문자열이 출력되도록 코드를 작성해주세요\n",
        "\n",
        "phone_number = \"01012347890\"  \n",
        "<br>\n",
        "\n",
        "출력 예) \"0101234****\""
      ]
    },
    {
      "cell_type": "code",
      "execution_count": 9,
      "metadata": {
        "id": "P0fY7CYUvC_j",
        "colab": {
          "base_uri": "https://localhost:8080/"
        },
        "outputId": "a9db4062-9b63-498e-a7c1-2c1d74a08e12"
      },
      "outputs": [
        {
          "output_type": "stream",
          "name": "stdout",
          "text": [
            "0101234****\n"
          ]
        }
      ],
      "source": [
        "phone_number = \"01012347890\"\n",
        "\n",
        "# 뒤에서 4자리 까지 인덱스 번호 저장\n",
        "hideFirstItemIdx = len(phone_number) - 4\n",
        "\n",
        "# 숨겨질 번호를 저장하기위한 변수\n",
        "hidePhoneNumber = \"\"\n",
        "\n",
        "# 숨겨진 번호\n",
        "hide = \"****\"\n",
        "\n",
        "# 반복횟수가 hideFirstItemIdx 와 같을때까지 비교하기위한 변수\n",
        "numberCount = 0\n",
        "\n",
        "for number in phone_number:\n",
        "    numberCount += 1\n",
        "    hidePhoneNumber += number\n",
        "    if hideFirstItemIdx == numberCount:\n",
        "        break\n",
        "\n",
        "# 출력\n",
        "print(hidePhoneNumber + hide)\n"
      ]
    },
    {
      "cell_type": "markdown",
      "metadata": {
        "id": "Pry6ENAoqcXN"
      },
      "source": [
        "---"
      ]
    },
    {
      "cell_type": "markdown",
      "metadata": {
        "id": "uUdOU9cFvDsq"
      },
      "source": [
        "__[문제3]__\n",
        "\n",
        "숫자를 건넬 때 일부 자릿수를 영단어로 바꾼 카드를 건네주면 프로도는 원래 숫자를 찾는 게임입니다.\n",
        "\n",
        "다음은 숫자의 일부 자릿수를 영단어로 바꾸는 예시입니다.\n",
        "\n",
        "1478 → \"one4seveneight\"  \n",
        "234567 → \"23four5six7\"  \n",
        "10203 → \"1zerotwozero3\"    \n",
        "\n",
        "이렇게 숫자의 일부 자릿수가 영단어로 바뀌어졌거나,   \n",
        "혹은 바뀌지 않고 그대로인 문자열 s가 주어졌을때\n",
        "s가 의미하는 원래 숫자를 출력하도록 코드를 작성해주세요\n",
        "\n",
        "s = \"77three4one\n",
        "\n",
        "---\n",
        "참고로 각 숫자에 대응되는 영단어는 다음 표와 같습니다.\n",
        "\n",
        "숫자\t영단어  \n",
        "0\tzero  \n",
        "1\tone  \n",
        "2\ttwo  \n",
        "3\tthree  \n",
        "4\tfour  \n",
        "5\tfive  \n",
        "6\tsix  \n",
        "7\tseven  \n",
        "8\teight  \n",
        "9\tnine  "
      ]
    },
    {
      "cell_type": "code",
      "execution_count": 26,
      "metadata": {
        "id": "2NmqRFgDvFtz",
        "colab": {
          "base_uri": "https://localhost:8080/"
        },
        "outputId": "d014a03c-ff2f-40e6-8b49-49d8b3259102"
      },
      "outputs": [
        {
          "output_type": "stream",
          "name": "stdout",
          "text": [
            "문자열을 입력해주세요 > 종료(q)one4seveneight\n",
            "숫자로 출력 : 1478\n",
            "문자열을 입력해주세요 > 종료(q)23four5six7\n",
            "숫자로 출력 : 234567\n",
            "문자열을 입력해주세요 > 종료(q)1zerotwozero3\n",
            "숫자로 출력 : 10203\n",
            "문자열을 입력해주세요 > 종료(q)q\n",
            "프로도 숫자 게임 종료!!\n"
          ]
        }
      ],
      "source": [
        "# intersection 교집합\n",
        "# difference 차집합\n",
        "\n",
        "# 1478 → \"one4seveneight\"\n",
        "# 234567 → \"23four5six7\"\n",
        "# 10203 → \"1zerotwozero3\"\n",
        "\n",
        "numbers = (0, 1, 2, 3, 4, 5, 6, 7, 8, 9)\n",
        "englishWords = (\"zero\", \"one\", \"two\", \"three\", \"four\", \"five\", \"six\", \"seven\", \"eight\", \"nine\")\n",
        "\n",
        "# 변경된 문자열을 저장하면서 출력담당\n",
        "outputString = \"\"\n",
        "\n",
        "while True:\n",
        "    inputString = input(\"문자열을 입력해주세요 > 종료(q)\")\n",
        "    outputString = inputString\n",
        "\n",
        "    # 게임 종료문\n",
        "    if inputString[-1].upper() == 'Q':\n",
        "        print(\"프로도 숫자 게임 종료!!\")\n",
        "        break\n",
        "\n",
        "    # 문자를 숫자로 바꾸는 기능\n",
        "    for englishWord in englishWords:\n",
        "        if englishWord in inputString:\n",
        "            numbersIdx = englishWords.index(englishWord)\n",
        "            outputString = outputString.replace(englishWord, str(numbers[numbersIdx]))\n",
        "\n",
        "    print(f'숫자로 출력 : {outputString}')\n"
      ]
    },
    {
      "cell_type": "markdown",
      "metadata": {
        "id": "uX1KM2DlqcXO"
      },
      "source": [
        "---"
      ]
    },
    {
      "cell_type": "markdown",
      "metadata": {
        "id": "J0Tha6AdvGL3"
      },
      "source": [
        "__[문제4]__\n",
        "\n",
        "행렬의 덧셈은 행과 열의 크기가 같은 두 행렬의 같은 행, 같은 열의 값을 서로 더한 결과가 됩니다.\n",
        "\n",
        " 행렬 arr1과 arr2가 주어졌을 때, 행렬 덧셈의 결과를 출력하는 코드를 작성해주세요(result와 같은 결과가 출력되도록 작성)\n",
        "\n",
        "arr1 = [[1,2],[2,3]]\n",
        "\n",
        "arr2 = [[3,4],[5,6]]\n",
        "\n",
        "result = [[4,6],[7,9]]"
      ]
    },
    {
      "cell_type": "code",
      "execution_count": 116,
      "metadata": {
        "id": "ujiXrEhJvIV0",
        "colab": {
          "base_uri": "https://localhost:8080/"
        },
        "outputId": "1ce6804e-253d-498d-f673-a4653bfcb3b8"
      },
      "outputs": [
        {
          "output_type": "stream",
          "name": "stdout",
          "text": [
            "idxA: 0\n",
            "idxB: 0\n",
            "vArr1: 1\n",
            "vArr2: 3\n",
            "idxB: 1\n",
            "vArr1: 2\n",
            "vArr2: 5\n",
            "idxA: 1\n",
            "idxB: 0\n",
            "vArr1: 2\n",
            "vArr2: 4\n",
            "idxB: 1\n",
            "vArr1: 3\n",
            "vArr2: 6\n",
            "result: [[4, 7], [6, 9]]\n"
          ]
        }
      ],
      "source": [
        "arr1 = [[1,2],[2,3]]\n",
        "\n",
        "arr2 = [[3,4],[5,6]]\n",
        "\n",
        "resutl = []\n",
        "\n",
        "# for i, j in arr1, arr2:\n",
        "#     print(f'i1: {i[0]}, j1: {j[0]}')\n",
        "#     print(f'i2: {i[1]}, j2: {j[1]}')\n",
        "\n",
        "\n",
        "for idxA, vArr1 in enumerate(arr1):\n",
        "    # print(f'i: {idx}, v: {v}')\n",
        "    print(f\"idxA: {idxA}\")\n",
        "    empList = []\n",
        "    for idxB, vArr2 in enumerate(arr2):\n",
        "        print(f'idxB: {idxB}')\n",
        "        # print(f'arr1 : {arr1[idxA][idxB]}')\n",
        "        print(f'vArr1: {vArr1[idxB]}')\n",
        "        print(f'vArr2: {vArr2[idxA]}')\n",
        "        empList.append(vArr1[idxB] + vArr2[idxA])\n",
        "    # resutl.insert(idxB, empList)\n",
        "    resutl.append(empList)\n",
        "\n",
        "print(f'result: {resutl}')\n",
        "\n",
        "# 머리가 안돌아갑니다... 일단 제출하고 다시 해보겠습니다. 23시52분"
      ]
    },
    {
      "cell_type": "markdown",
      "metadata": {
        "id": "s04QNY7oqcXO"
      },
      "source": [
        "---"
      ]
    },
    {
      "cell_type": "markdown",
      "metadata": {
        "id": "eLdrWVkavJEN"
      },
      "source": [
        "__[문제5]__\n",
        "\n",
        "양의 정수 x가 하샤드 수이려면 x의 자릿수의 합으로 x가 나누어져야 합니다.   \n",
        "예를 들어 18의 자릿수 합은 1+8=9이고, 18은 9로 나누어 떨어지므로 18은 하샤드 수입니다.   \n",
        "주어진 x를 이용해 x가 하샤드 수인지 아닌지 검사하는 코드를 작성해주세요\n",
        "\n",
        "x = 17\n",
        "\n",
        "----\n",
        "\n",
        "입출력 예시\n",
        "x\t결과값  \n",
        "10\ttrue  \n",
        "12\ttrue  \n",
        "11\tfalse  \n",
        "13\tfalse  "
      ]
    },
    {
      "cell_type": "code",
      "execution_count": 85,
      "metadata": {
        "id": "EULD-IOrvKmG",
        "colab": {
          "base_uri": "https://localhost:8080/"
        },
        "outputId": "e5fc610e-28af-4dd7-e786-6192fb8847a9"
      },
      "outputs": [
        {
          "output_type": "stream",
          "name": "stdout",
          "text": [
            "숫자를 입력하세요 > 종료(q)a\n",
            "숫자를 입력하세요!\n",
            "숫자를 입력하세요 > 종료(q)17\n",
            "입력 숫자: 17 (은)는 하샤드 수가 아닙니다.\n",
            "숫자를 입력하세요 > 종료(q)10\n",
            "입력 숫자: 10 (은)는 하샤드 수 입니다.\n",
            "숫자를 입력하세요 > 종료(q)12\n",
            "입력 숫자: 12 (은)는 하샤드 수 입니다.\n",
            "숫자를 입력하세요 > 종료(q)11\n",
            "입력 숫자: 11 (은)는 하샤드 수가 아닙니다.\n",
            "숫자를 입력하세요 > 종료(q)13\n",
            "입력 숫자: 13 (은)는 하샤드 수가 아닙니다.\n",
            "숫자를 입력하세요 > 종료(q)465\n",
            "입력 숫자: 465 (은)는 하샤드 수 입니다.\n",
            "숫자를 입력하세요 > 종료(q)q\n",
            "프로그램 종료!!\n"
          ]
        }
      ],
      "source": [
        "sum = 0\n",
        "\n",
        "while True:\n",
        "    x = input(\"숫자를 입력하세요 > 종료(q)\")\n",
        "\n",
        "    if x.upper() == 'Q':\n",
        "        print(\"프로그램 종료!!\")\n",
        "        break\n",
        "\n",
        "    # 숫자를 잘 입력하는지 체크\n",
        "    if not x.isdigit():\n",
        "        print(\"숫자를 입력하세요!\")\n",
        "        continue\n",
        "\n",
        "    inputNum = int(x)\n",
        "\n",
        "    for char in x:\n",
        "        sum += int(char)\n",
        "\n",
        "    if inputNum % sum == 0:\n",
        "        print(f'입력 숫자: {x} (은)는 하샤드 수 입니다.')\n",
        "    else:\n",
        "        print(f'입력 숫자: {x} (은)는 하샤드 수가 아닙니다.')\n",
        "\n",
        "    sum = 0"
      ]
    },
    {
      "cell_type": "markdown",
      "metadata": {
        "id": "PJhPe3RZqcXO"
      },
      "source": [
        "---"
      ]
    },
    {
      "cell_type": "markdown",
      "metadata": {
        "id": "GeS6hZhivLMZ"
      },
      "source": [
        "__[문제6]__\n",
        "\n",
        "String형 배열 seoul의 element중 \"Kim\"의 인덱스 x를 찾아, \"김서방은 x에 있다\"는 String을 출력하는 코드를 작성해주세요.   \n",
        "\n",
        "seoul에 \"Kim\"은 오직 한 번만 나타나며 잘못된 값이 입력되는 경우는 없습니다.\n",
        "\n",
        "seoul = [\"Jane\", \"Kim\"]\n",
        "\n",
        "<br>\n",
        "출력 예) \"김서방은 1에 있다\""
      ]
    },
    {
      "cell_type": "code",
      "execution_count": 87,
      "metadata": {
        "id": "e4LXat3BvRRg",
        "colab": {
          "base_uri": "https://localhost:8080/"
        },
        "outputId": "eef07884-a094-4f49-ff33-3ad7952f136f"
      },
      "outputs": [
        {
          "output_type": "stream",
          "name": "stdout",
          "text": [
            "김서방은 1에 있다\n"
          ]
        }
      ],
      "source": [
        "seoul = [\"Jane\", \"Kim\"]\n",
        "\n",
        "for idx, v in enumerate(seoul):\n",
        "    if \"Kim\" == seoul[idx]:\n",
        "        print(f'김서방은 {idx}에 있다')"
      ]
    },
    {
      "cell_type": "markdown",
      "metadata": {
        "id": "4EeDE5YrqcXP"
      },
      "source": [
        "---"
      ]
    },
    {
      "cell_type": "markdown",
      "metadata": {
        "id": "iZjKl-ZqvOkm"
      },
      "source": [
        "__[문제7]__\n",
        "\n",
        "0부터 9까지의 숫자 중 일부가 들어있는 정수 배열 numbers가 주어집니다.   \n",
        "numbers에서 찾을 수 없는 0부터 9까지의 숫자를 모두 찾아 더한 수를 출력해주세요\n",
        "\n",
        "numbers = [5,8,1,0,6,9]"
      ]
    },
    {
      "cell_type": "code",
      "execution_count": 100,
      "metadata": {
        "id": "598DAkIHvQav",
        "colab": {
          "base_uri": "https://localhost:8080/"
        },
        "outputId": "feefe80d-bd61-4151-a580-d4a150e6255c"
      },
      "outputs": [
        {
          "output_type": "stream",
          "name": "stdout",
          "text": [
            "numbers 숫자를 모드 더한수: 45\n"
          ]
        }
      ],
      "source": [
        "numbers = [5,8,1,0,6,9]\n",
        "\n",
        "for i in range(0, 10):\n",
        "    if not i in numbers:\n",
        "        numbers.append(i)\n",
        "\n",
        "print(f'numbers 숫자를 모드 더한수: {sum(numbers)}')"
      ]
    }
  ],
  "metadata": {
    "colab": {
      "provenance": []
    },
    "kernelspec": {
      "display_name": "Python 3",
      "name": "python3"
    },
    "language_info": {
      "codemirror_mode": {
        "name": "ipython",
        "version": 3
      },
      "file_extension": ".py",
      "mimetype": "text/x-python",
      "name": "python",
      "nbconvert_exporter": "python",
      "pygments_lexer": "ipython3",
      "version": "3.11.7"
    }
  },
  "nbformat": 4,
  "nbformat_minor": 0
}