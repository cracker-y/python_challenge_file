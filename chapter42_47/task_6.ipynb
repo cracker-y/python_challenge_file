{
  "cells": [
    {
      "cell_type": "markdown",
      "metadata": {
        "id": "KbqiCarXYDLN"
      },
      "source": [
        "[문제]\n",
        "\n",
        "'Vehicle'이라는 기본 클래스를 선언하세요.\n",
        "\n",
        "이 클래스는 make (제조사)와 model (모델명) 두 개의 속성을 갖고, 생성자(__init__)를 통해 이 두 속성을 초기화합니다. 'display_info'라는 메소드를 추가하여, \"이 차량은 [make]에서 제조한 [model]입니다.\"라는 메시지를 반환하도록 하세요.\n",
        "\n",
        "'Truck'과 'Car' 두 개의 하위 클래스를 생성하고, 각 클래스는 'Vehicle' 클래스로부터 상속받습니다.\n",
        "\n",
        "'Truck' 클래스에는 추가로 'payload' (적재량) 속성을, 'Car' 클래스에는 'seats' (좌석 수) 속성을 추가합니다. 각각의 하위 클래스에서 'display_info' 메소드는 기본 클래스의 메소드를 그대로 사용합니다.\n",
        "\n",
        "'Truck'과 'Car' 객체 각각을 생성하고, 'display_info' 메소드를 호출하여 정보를 출력하세요.\n",
        "\n",
        "또한, 각 객체의 추가 속성(적재량, 좌석 수)에 대한 정보도 출력하세요.\n",
        "\n",
        "이 문제는 클래스의 상속 개념을 이해하고, 기본 클래스의 속성과 메소드를 하위 클래스가 어떻게 활용할 수 있는지 보여줍니다.\n",
        "\n",
        "오버라이드는 필요하지 않으며, 각 하위 클래스의 고유한 속성을 추가하는 방법에 초점을 맞춥니다."
      ]
    },
    {
      "cell_type": "code",
      "source": [
        "class Vehicle:\n",
        "    def __init__(self, make, model):\n",
        "        self.make = make\n",
        "        self.model = model\n",
        "\n",
        "    # 기본 클래스 정보 출력\n",
        "    def display_info(self):\n",
        "        return f'이 차량은 {self.make}에서 제조한 {self.model}입니다.'\n",
        "\n",
        "# 트럭 클래스\n",
        "class Truck(Vehicle):\n",
        "    def __init__(self, make, model, payload):\n",
        "        super().__init__(make, model)\n",
        "        self.payload = payload\n",
        "\n",
        "    def __str__(self):\n",
        "        return f'최대 적재량 : {self.payload}kg'\n",
        "\n",
        "# 자동차 클래스\n",
        "class Car(Vehicle):\n",
        "    def __init__(self, make, model, seats):\n",
        "        super().__init__(make, model)\n",
        "        self.seats = seats\n",
        "\n",
        "    def __str__(self):\n",
        "        return f'좌석 수 : {self.seats}'\n",
        "\n",
        "\n",
        "# 트럭 인스턴스\n",
        "truck = Truck('현대', '포터2', 1000)\n",
        "# 자동차 인스턴스\n",
        "car = Car('기아', 'k5', 5)\n",
        "\n",
        "# 출력\n",
        "print(truck.display_info(), truck)\n",
        "print(car.display_info(), car)"
      ],
      "metadata": {
        "colab": {
          "base_uri": "https://localhost:8080/"
        },
        "id": "7hQXDjZQDFVp",
        "outputId": "0c3b798d-9894-4118-c2d0-fbf07101a5e5"
      },
      "execution_count": 3,
      "outputs": [
        {
          "output_type": "stream",
          "name": "stdout",
          "text": [
            "이 차량은 현대에서 제조한 포터2입니다. 최대 적재량 : 1000kg\n",
            "이 차량은 기아에서 제조한 k5입니다. 좌석 수 : 5\n"
          ]
        }
      ]
    }
  ],
  "metadata": {
    "language_info": {
      "name": "python"
    },
    "colab": {
      "provenance": []
    },
    "kernelspec": {
      "name": "python3",
      "display_name": "Python 3"
    }
  },
  "nbformat": 4,
  "nbformat_minor": 0
}