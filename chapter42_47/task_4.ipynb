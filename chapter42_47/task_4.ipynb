{
  "cells": [
    {
      "cell_type": "markdown",
      "metadata": {
        "id": "DlgacVSKYCaH"
      },
      "source": [
        "[문제]\n",
        "\n",
        "'Employee' 클래스를 선언하세요.\n",
        "\n",
        "이 클래스는 월급인상률을 의미하는 클래스 변수로 'raise_amount'를 갖고 있으며, 기본값은 1.04입니다. 다음 급여는 기본 급여에 월급인상률을 곱한 값으로 결정합니다.\n",
        "\n",
        "또한, 각 직원의 이름(name)과 급여(salary)를 속성으로 가지며, 'apply_raise' 메소드를 통해 급여에 'raise_amount'를 적용할 수 있어야 합니다.\n",
        "\n",
        "'Employee' 클래스의 객체 두 개를 생성하고, 한 객체에만 'raise_amount'를 변경한 후, 두 객체의 급여를 증가시켜보세요.<br>\n",
        "그리고 각 객체의 새로운 급여를 출력하세요."
      ]
    },
    {
      "cell_type": "markdown",
      "metadata": {
        "id": "unCOCndKYCaJ"
      },
      "source": []
    },
    {
      "cell_type": "markdown",
      "metadata": {
        "id": "gMUcdCshYCaJ"
      },
      "source": []
    },
    {
      "cell_type": "code",
      "source": [
        "class Employee:\n",
        "    raise_amount = 1.04\n",
        "\n",
        "    def __init__(self, name, salary):\n",
        "        self.name = name\n",
        "        self.salary = salary\n",
        "\n",
        "    def apply_raise(self, raise_amount):\n",
        "        Employee.raise_amount = raise_amount\n",
        "\n",
        "    def __str__(self):\n",
        "        return f'{self.name} 급여: {self.salary * Employee.raise_amount}'\n",
        "\n",
        "\n",
        "\n",
        "oz = Employee(\"오즈\", 1000)\n",
        "wizard = Employee(\"마법사\", 2000)\n",
        "\n",
        "# 인상 전\n",
        "print(f'{oz}\\n{wizard}')\n",
        "print()\n",
        "# 인상 후\n",
        "oz.apply_raise(3.04)\n",
        "print(f'{oz}\\n{wizard}')"
      ],
      "metadata": {
        "colab": {
          "base_uri": "https://localhost:8080/"
        },
        "id": "lDEChpzrcBCn",
        "outputId": "0f73bd0e-a7da-4c16-f7bc-2c03d3baac84"
      },
      "execution_count": 5,
      "outputs": [
        {
          "output_type": "stream",
          "name": "stdout",
          "text": [
            "오즈 급여: 1040.0\n",
            "마법사 급여: 2080.0\n",
            "\n",
            "오즈 급여: 3040.0\n",
            "마법사 급여: 6080.0\n"
          ]
        }
      ]
    }
  ],
  "metadata": {
    "language_info": {
      "name": "python"
    },
    "colab": {
      "provenance": []
    },
    "kernelspec": {
      "name": "python3",
      "display_name": "Python 3"
    }
  },
  "nbformat": 4,
  "nbformat_minor": 0
}