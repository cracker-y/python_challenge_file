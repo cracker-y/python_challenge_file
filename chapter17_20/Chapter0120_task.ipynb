{
  "cells": [
    {
      "cell_type": "markdown",
      "metadata": {
        "id": "aLkxKxnFLowa"
      },
      "source": [
        "안녕하세요. 수강생 여러분~! Chapter17 ~ 20 수업은 잘 들으셨나요?\n",
        "\n",
        "Chapter01 ~ 20의 수업 내용을 바탕으로 아래 문제를 풀어주시면 됩니다.\n",
        "\n",
        "저번에 했던 \"붕어빵 자동 판매 시스템\"을 리팩토링 해봅시다 !!!\n",
        "\n",
        "못해도 괜찮아요 ! 같이 해봅시다 !\n",
        "\n",
        "<br>\n",
        "\n",
        "\n",
        "[**답변 입력 방법**]\n",
        "\n",
        "문제 아래에 있는 코드 입력창에 정답코드를 작성하신 후  __▷ 버튼을 클릭해 코드를 실행__ 해보세요<br>"
      ]
    },
    {
      "cell_type": "markdown",
      "metadata": {
        "id": "SqnQSuE0pu7B"
      },
      "source": [
        "### 리팩토링 과제\n",
        "\n",
        "Day4에서 만든 \"붕어빵 자동 판매 시스템\"은 절차적 코드로 구현되어있습니다.\n",
        "<br>\n",
        "\n",
        "Day5에서 배운 함수, 클래스 개념을 적용시켜 객체지향적으로 리팩토링을 진행해주세요\n"
      ]
    },
    {
      "cell_type": "code",
      "execution_count": null,
      "metadata": {
        "id": "YvN_HsS9pu7C"
      },
      "outputs": [],
      "source": [
        "# 리팩토링 과제 힌트\n",
        "# 구조는 아래와 같습니다.\n",
        "class BungeoppangShop:\n",
        "    def __init__(self):\n",
        "\n",
        "    # 재고확인\n",
        "    def check_stock(self):\n",
        "\n",
        "    # 주문\n",
        "    def process_order(self, bread_type, bread_count):\n",
        "\n",
        "    # 관리자 모드\n",
        "    def admin_mode(self):\n",
        "\n",
        "    # 총 판매 계산\n",
        "    def calculate_total_sales(self):\n",
        "\n",
        "def main():\n",
        "\n",
        "if __name__ == \"__main__\":\n",
        "    main()\n"
      ]
    },
    {
      "cell_type": "markdown",
      "metadata": {
        "id": "01hAhUJRpu7D"
      },
      "source": [
        "__BungeoppangShop 클래스__\n",
        "\n",
        "- __init__(): 초기 재고, 가격, 판매량을 설정합니다.\n",
        "- check_stock(): 현재 재고를 출력합니다.\n",
        "- process_order(): 주문을 처리하고 재고를 업데이트합니다.\n",
        "- admin_mode(): 관리자 모드에서 재고를 추가합니다.\n",
        "- calculate_total_sales(): 총 매출을 계산하고 출력합니다."
      ]
    },
    {
      "cell_type": "markdown",
      "metadata": {
        "id": "ipGkKABjpu7D"
      },
      "source": [
        "__[과제 1: 초기화 메서드 __init__]__\n",
        "\n",
        "목표: __init__ 메서드를 구현하여 붕어빵 가게의 초기 재고, 가격, 판매량을 설정합니다.\n",
        "\n",
        "설명: self.stock, self.prices, self.sales 딕셔너리를 초기화하세요.\n",
        "- stock\n",
        "    - \"팥붕어빵\": 10\n",
        "    - \"슈크림붕어빵\": 8\n",
        "    - \"초코붕어빵\": 5\n",
        "\n",
        "- prices\n",
        "    - \"팥붕어빵\": 1000\n",
        "    - \"슈크림붕어빵\": 1200\n",
        "    - \"초코붕어빵\": 1500\n",
        "\n",
        "- sales\n",
        "    - \"팥붕어빵\": 0,\n",
        "    - \"슈크림붕어빵\": 0,\n",
        "    - \"초코붕어빵\": 0"
      ]
    },
    {
      "cell_type": "code",
      "execution_count": 37,
      "metadata": {
        "colab": {
          "base_uri": "https://localhost:8080/"
        },
        "id": "qYgvhJqBpu7D",
        "outputId": "27aa026f-a20d-4983-a6b9-a6a6a71e6bf3"
      },
      "outputs": [
        {
          "output_type": "stream",
          "name": "stdout",
          "text": [
            "주문전\n",
            "재고: 팥붕어빵: 10개 슈크림붕어빵: 8개 초코붕어빵: 5개 \n",
            "\n",
            "1.팥붕어빵: 1000원, 2.슈크림붕어빵: 1200원, 3초코붕어빵: 1500원\n",
            ">> 주문 2, 개수: 3개\n",
            "\n",
            "주문후\n",
            "재고: 팥붕어빵: 10개 슈크림붕어빵: 5개 초코붕어빵: 5개 \n",
            "\n",
            "재고 충전\n",
            "재고: 팥붕어빵: 15개 슈크림붕어빵: 10개 초코붕어빵: 10개 \n",
            "\n",
            "------------------------------------------------------------\n",
            "\n",
            "==영수증 출력==\n",
            "팥붕어빵: 0원 \n",
            "슈크림붕어빵: 3600원 \n",
            "초코붕어빵: 0원 \n",
            "총 판매 개수: 3\n"
          ]
        }
      ],
      "source": [
        "class BungeoppangShop:\n",
        "    # key 값을 변수에 담았습니다. (붕어빵 이름을 외부에서 건들수 없어!)\n",
        "    menu = (\"팥붕어빵\", \"슈크림붕어빵\", \"초코붕어빵\")\n",
        "    # 붕어빵 가격\n",
        "    prices = (1000, 1200, 1500)\n",
        "    # 영수증 리스트\n",
        "    receipts = dict(zip(menu, [0,0,0]))\n",
        "\n",
        "    # 총 판매개수\n",
        "    sell_count = 0\n",
        "\n",
        "    def __init__(self):\n",
        "        self.stock = {self.menu[0]: 10, self.menu[1]: 8, self.menu[2]: 5}\n",
        "\n",
        "    # 매뉴표 출력\n",
        "    def showMenu(self):\n",
        "        print(f'1.{self.menu[0]}: {self.prices[0]}원, 2.{self.menu[1]}: {self.prices[1]}원, 3{self.menu[2]}: {self.prices[2]}원')\n",
        "\n",
        "    # 재고확인\n",
        "    def check_stock(self):\n",
        "        message = \"\"\n",
        "        for k, v in self.stock.items():\n",
        "            message += f'{k}: {v}개 '\n",
        "        print(f\"재고: {message}\")\n",
        "\n",
        "\n",
        "    # # 주문\n",
        "    def process_order(self, bread_type, bread_count):\n",
        "        # 붕어빵 이름\n",
        "        type = self.menu[bread_type]\n",
        "        # 붕어빵 재고\n",
        "        stock_count = self.stock[type]\n",
        "        # 붕어빵 가격\n",
        "        price = self.prices[bread_type]\n",
        "        # 최소값\n",
        "        count = min(stock_count, bread_count)\n",
        "        stock_count -= count\n",
        "        self.stock[type] = stock_count\n",
        "\n",
        "        # 붕어빵 주문 총 금액 계산\n",
        "        price = price * count\n",
        "\n",
        "        # 판매 상황을 담았습니다.\n",
        "        self.receipts[type] += price\n",
        "        # 총 판매량\n",
        "        self.sell_count += count\n",
        "\n",
        "\n",
        "\n",
        "    # # 관리자 모드\n",
        "    def admin_mode(self):\n",
        "        # 붕어빵 주인은 항상 각 5개씩 입고 합니다. ( 재고가 남아 있어도... )\n",
        "        self.stock[self.menu[0]] += 5\n",
        "        self.stock[self.menu[1]] += 5\n",
        "        self.stock[self.menu[2]] += 5\n",
        "\n",
        "\n",
        "    # # 총 판매 계산\n",
        "    def calculate_total_sales(self):\n",
        "        # print(self.receipts)\n",
        "        for k, v in self.receipts.items():\n",
        "            print(f'{k}: {v}원 ')\n",
        "        print(f\"총 판매 개수: {self.sell_count}\")\n",
        "\n",
        "\n",
        "\n",
        "\n",
        "\n",
        "shop = BungeoppangShop()\n",
        "print(\"주문전\")\n",
        "shop.check_stock()\n",
        "print()\n",
        "shop.showMenu()\n",
        "print('>> 주문 2, 개수: 3개')\n",
        "shop.process_order(1, 3)\n",
        "print()\n",
        "print('주문후')\n",
        "shop.check_stock()\n",
        "print()\n",
        "print('재고 충전')\n",
        "shop.admin_mode()\n",
        "shop.check_stock()\n",
        "\n",
        "print('\\n------------------------------------------------------------')\n",
        "print('\\n==영수증 출력==')\n",
        "shop.calculate_total_sales()"
      ]
    },
    {
      "cell_type": "markdown",
      "metadata": {
        "id": "fNS-8VITpu7D"
      },
      "source": [
        "__[과제 2: 재고 확인 메서드 check_stock]__\n",
        "\n",
        "목표: check_stock 함수를 구현하여 현재 붕어빵 재고를 출력합니다.\n",
        "\n",
        "설명: self.stock 딕셔너리를 순회하며 각 붕어빵의 종류와 재고를 출력하세요.\n"
      ]
    },
    {
      "cell_type": "code",
      "execution_count": 38,
      "metadata": {
        "colab": {
          "base_uri": "https://localhost:8080/"
        },
        "id": "9keBVQr4pu7E",
        "outputId": "edbfc708-c1b2-4cf8-debe-c079fa337e27"
      },
      "outputs": [
        {
          "output_type": "stream",
          "name": "stdout",
          "text": [
            "재고: 팥붕어빵: 15개 슈크림붕어빵: 10개 초코붕어빵: 10개 \n"
          ]
        }
      ],
      "source": [
        "shop.check_stock()"
      ]
    },
    {
      "cell_type": "markdown",
      "metadata": {
        "id": "9GLdQQgtpu7E"
      },
      "source": [
        "__[과제 3: 주문 처리 메서드 process_order]__\n",
        "\n",
        "목표: process_order 함수를 구현하여 손님의 주문을 처리하고 재고를 업데이트합니다.\n",
        "\n",
        "설명: bread_type과 bread_count를 매개변수로 받아, 재고를 확인하고 충분한 경우 재고를 감소시키고 판매량을 증가시킵니다. 재고가 부족하거나 잘못된 붕어빵 종류인 경우 적절한 메시지를 출력하세요."
      ]
    },
    {
      "cell_type": "code",
      "execution_count": 39,
      "metadata": {
        "colab": {
          "base_uri": "https://localhost:8080/"
        },
        "id": "fY6qHbRopu7F",
        "outputId": "1b82291f-9568-4171-b785-7c0e549b4beb"
      },
      "outputs": [
        {
          "output_type": "stream",
          "name": "stdout",
          "text": [
            "1.팥붕어빵: 1000원, 2.슈크림붕어빵: 1200원, 3초코붕어빵: 1500원\n",
            ">> 주문 3, 개수: 5개\n",
            "재고: 팥붕어빵: 15개 슈크림붕어빵: 10개 초코붕어빵: 5개 \n"
          ]
        }
      ],
      "source": [
        "shop.showMenu()\n",
        "print('>> 주문 3, 개수: 5개')\n",
        "shop.process_order(2, 5)\n",
        "shop.check_stock()"
      ]
    },
    {
      "cell_type": "markdown",
      "metadata": {
        "id": "ow4R9N5Dpu7F"
      },
      "source": [
        "__[과제 4: 관리자 모드 메서드 admin_mode]__\n",
        "\n",
        "목표: admin_mode 메서드를 구현하여 관리자 모드에서 재고를 추가할 수 있도록 합니다.\n",
        "\n",
        "설명: bread_type과 additional_stock을 입력받아 재고를 추가합니다. 잘못된 입력 값이 들어온 경우 적절한 메시지를 출력하세요."
      ]
    },
    {
      "cell_type": "code",
      "execution_count": 40,
      "metadata": {
        "colab": {
          "base_uri": "https://localhost:8080/"
        },
        "id": "6sosvbs5pu7F",
        "outputId": "84f62fca-0975-437a-dff2-c2c595c4c8c8"
      },
      "outputs": [
        {
          "output_type": "stream",
          "name": "stdout",
          "text": [
            "재고 충전\n",
            "재고: 팥붕어빵: 20개 슈크림붕어빵: 15개 초코붕어빵: 10개 \n"
          ]
        }
      ],
      "source": [
        "print('재고 충전')\n",
        "shop.admin_mode()\n",
        "shop.check_stock()"
      ]
    },
    {
      "cell_type": "markdown",
      "metadata": {
        "id": "73gcgz7dpu7F"
      },
      "source": [
        "\n",
        "__[과제 5: 매출 계산 메서드 calculate_total_sales]__\n",
        "\n",
        "목표: calculate_total_sales 메서드를 구현하여 총 매출을 계산하고 출력합니다.\n",
        "\n",
        "설명: self.sales와 self.prices를 사용하여 총 매출을 계산하고 출력하세요."
      ]
    },
    {
      "cell_type": "code",
      "execution_count": 41,
      "metadata": {
        "colab": {
          "base_uri": "https://localhost:8080/"
        },
        "id": "WtRESPIypu7F",
        "outputId": "ea4b032d-db16-4cf2-9329-7070a99186a5"
      },
      "outputs": [
        {
          "output_type": "stream",
          "name": "stdout",
          "text": [
            "\n",
            "==영수증 출력==\n",
            "팥붕어빵: 0원 \n",
            "슈크림붕어빵: 3600원 \n",
            "초코붕어빵: 7500원 \n",
            "총 판매 개수: 8\n"
          ]
        }
      ],
      "source": [
        "# 과제 1, 3에서 주문 총 8개 팔렸습니다\n",
        "print('\\n==영수증 출력==')\n",
        "shop.calculate_total_sales()"
      ]
    },
    {
      "cell_type": "markdown",
      "metadata": {
        "id": "wpS450lhpu7F"
      },
      "source": [
        "__[과제 6: 메인 함수 main]__\n",
        "\n",
        "목표: main 함수를 작성하여 프로그램의 주요 로직을 실행합니다.\n",
        "\n",
        "설명:\n",
        "- BungeoppangShop 객체를 생성합니다.\n",
        "- 사용자에게 모드를 선택하도록 요청합니다.\n",
        "- \"주문\" 모드에서는 손님의 주문을 처리하고, \"관리자\" 모드에서는 재고를 추가할 수 있습니다.\n",
        "- 프로그램이 종료될 때 총 매출을 계산하고 데이터를 저장합니다.\n"
      ]
    },
    {
      "cell_type": "code",
      "execution_count": null,
      "metadata": {
        "id": "wWlJ0w_hpu7F"
      },
      "outputs": [],
      "source": [
        "def main():\n",
        "    shop = BungeoppangShop()\n",
        "    while True:\n",
        "        modeInput = input(\"> 1.주문 모드 <  > 2.관리자 모드 <  >3.종료<\")\n",
        "        if '1' in modeInput:\n",
        "            print('주문 모드에 진입 했습니다.')\n",
        "            shop.showMenu()\n",
        "            menuInput = int(input(\"번호를 입력해 주문하세요. > \")) - 1\n",
        "            amountInput = int(input(\"개수를 입력해주세요 > \"))\n",
        "            shop.process_order(menuInput, amountInput)\n",
        "\n",
        "        if '2' in modeInput:\n",
        "            print('관리자 모드에 진입 했습니다.')\n",
        "            addStock = input(\"재고를 충전 하시겠습니까? (y),(n)\")\n",
        "            if 'Y' in addStock.upper():\n",
        "                print('재고 충전!!')\n",
        "                shop.admin_mode()\n",
        "            else:\n",
        "                print('재고 주문을 하지 않았습니다.')\n",
        "\n",
        "        if '3' in modeInput:\n",
        "            print('붕어빵 상점이 문을 닫았습니다.')\n",
        "            print('총 매출은 !!!')\n",
        "            print('\\n------------------------------------------------------------')\n",
        "            print('\\n==영수증 출력==')\n",
        "            shop.calculate_total_sales()\n",
        "            break"
      ]
    },
    {
      "cell_type": "markdown",
      "metadata": {
        "id": "cGU9yPLvpu7F"
      },
      "source": [
        "__[과제 7: 최종 BungeoppangShop 클래스]__\n",
        "\n",
        "함수로 리팩토링한 \"붕어빵 자동 판매 시스템\" 작성 후 실행합니다."
      ]
    },
    {
      "cell_type": "code",
      "execution_count": 49,
      "metadata": {
        "colab": {
          "base_uri": "https://localhost:8080/"
        },
        "id": "WBP41-eQpu7G",
        "outputId": "20f40fd2-10e3-4398-a66b-8dc4a9ebf578"
      },
      "outputs": [
        {
          "output_type": "stream",
          "name": "stdout",
          "text": [
            "재고: 팥붕어빵: 10 슈크림붕어빵: 8 초코붕어빵: 5 \n",
            "\n",
            "> 1.주문 모드 <  > 2.관리자 모드 <  >3.종료<\n",
            "1\n",
            "주문 모드에 진입 했습니다.\n",
            "1.팥붕어빵: 1000원, 2.슈크림붕어빵: 1200원, 3초코붕어빵: 1500원\n",
            "번호를 입력해 주문하세요. > 1\n",
            "개수를 입력해주세요 > 5\n",
            "\n",
            "재고: 팥붕어빵: 5 슈크림붕어빵: 8 초코붕어빵: 5 \n",
            "\n",
            "> 1.주문 모드 <  > 2.관리자 모드 <  >3.종료<\n",
            "2\n",
            "관리자 모드에 진입 했습니다.\n",
            "재고를 충전 하시겠습니까? (y),(n)\n",
            "y\n",
            "재고 충전!!\n",
            "\n",
            "재고: 팥붕어빵: 10 슈크림붕어빵: 13 초코붕어빵: 10 \n",
            "\n",
            "> 1.주문 모드 <  > 2.관리자 모드 <  >3.종료<\n",
            "3\n",
            "붕어빵 상점이 문을 닫았습니다.\n",
            "총 매출은 !!!\n",
            "\n",
            "------------------------------------------------------------\n",
            "\n",
            "==영수증 출력==\n",
            "팥붕어빵: 5000\n",
            "슈크림붕어빵: 0\n",
            "초코붕어빵: 0\n",
            "남은 재고량\n",
            "재고: 팥붕어빵: 10 슈크림붕어빵: 13 초코붕어빵: 10 \n"
          ]
        }
      ],
      "source": [
        "class BungeoppangShop:\n",
        "    # key 값을 변수에 담았습니다. (붕어빵 이름을 외부에서 건들수 없어!)\n",
        "    menu = (\"팥붕어빵\", \"슈크림붕어빵\", \"초코붕어빵\")\n",
        "    # 붕어빵 가격\n",
        "    prices = (1000, 1200, 1500)\n",
        "    # 영수증 리스트\n",
        "    receipts = dict(zip(menu, [0,0,0]))\n",
        "\n",
        "    def __init__(self):\n",
        "        self.stock = {self.menu[0]: 10, self.menu[1]: 8, self.menu[2]: 5}\n",
        "\n",
        "    # 매뉴표 출력\n",
        "    def showMenu(self):\n",
        "        print(f'1.{self.menu[0]}: {self.prices[0]}원, 2.{self.menu[1]}: {self.prices[1]}원, 3{self.menu[2]}: {self.prices[2]}원')\n",
        "\n",
        "    # 재고확인\n",
        "    def check_stock(self):\n",
        "        message = \"\"\n",
        "        for k, v in self.stock.items():\n",
        "            message += f'{k}: {v} '\n",
        "        print(f\"재고: {message}\")\n",
        "\n",
        "\n",
        "    # # 주문\n",
        "    def process_order(self, bread_type, bread_count):\n",
        "        # 붕어빵 이름\n",
        "        type = self.menu[bread_type]\n",
        "        # 붕어빵 재고\n",
        "        stock_count = self.stock[type]\n",
        "        # 붕어빵 가격\n",
        "        price = self.prices[bread_type]\n",
        "        # 최소값\n",
        "        count = min(stock_count, bread_count)\n",
        "        stock_count -= count\n",
        "        self.stock[type] = stock_count\n",
        "\n",
        "        # 붕어빵 주문 총 금액 계산\n",
        "        price = price * count\n",
        "\n",
        "        # 판매 개수와, 총판매 금액을 담습니다.\n",
        "        # self.receipts.append([(f\"판매량: {bread_count}\", f\"총 판매금액: {price}\")])\n",
        "        self.receipts[type] += price\n",
        "\n",
        "\n",
        "\n",
        "    # # 관리자 모드\n",
        "    def admin_mode(self):\n",
        "        # 붕어빵 주인은 항상 각 5개씩 입고 합니다. ( 재고가 남아 있어도... )\n",
        "        self.stock[self.menu[0]] += 5\n",
        "        self.stock[self.menu[1]] += 5\n",
        "        self.stock[self.menu[2]] += 5\n",
        "\n",
        "\n",
        "    # # 총 판매 계산\n",
        "    def calculate_total_sales(self):\n",
        "        # print(self.receipts)\n",
        "        for k, v in self.receipts.items():\n",
        "            print(f'{k}: {v}')\n",
        "\n",
        "def main():\n",
        "    shop = BungeoppangShop()\n",
        "    shop.check_stock()\n",
        "    print()\n",
        "    while True:\n",
        "        modeInput = input(\"> 1.주문 모드 <  > 2.관리자 모드 <  >3.종료<\\n\")\n",
        "        if '1' in modeInput:\n",
        "            print('주문 모드에 진입 했습니다.')\n",
        "            shop.showMenu()\n",
        "            menuInput = int(input(\"번호를 입력해 주문하세요. > \")) - 1\n",
        "            amountInput = int(input(\"개수를 입력해주세요 > \"))\n",
        "            shop.process_order(menuInput, amountInput)\n",
        "            print()\n",
        "            shop.check_stock()\n",
        "            print()\n",
        "\n",
        "        if '2' in modeInput:\n",
        "            print('관리자 모드에 진입 했습니다.')\n",
        "            addStock = input(\"재고를 충전 하시겠습니까? (y),(n)\\n\")\n",
        "            if 'Y' in addStock.upper():\n",
        "                print('재고 충전!!')\n",
        "                shop.admin_mode()\n",
        "                print()\n",
        "                shop.check_stock()\n",
        "                print()\n",
        "            else:\n",
        "                print('재고 주문을 하지 않았습니다.')\n",
        "\n",
        "        if '3' in modeInput:\n",
        "            print('붕어빵 상점이 문을 닫았습니다.')\n",
        "            print('총 매출은 !!!')\n",
        "            print('\\n------------------------------------------------------------')\n",
        "            print('\\n==영수증 출력==')\n",
        "            shop.calculate_total_sales()\n",
        "            print(\"남은 재고량\")\n",
        "            shop.check_stock()\n",
        "            break\n",
        "\n",
        "main()"
      ]
    }
  ],
  "metadata": {
    "colab": {
      "provenance": []
    },
    "kernelspec": {
      "display_name": "Python 3",
      "name": "python3"
    },
    "language_info": {
      "codemirror_mode": {
        "name": "ipython",
        "version": 3
      },
      "file_extension": ".py",
      "mimetype": "text/x-python",
      "name": "python",
      "nbconvert_exporter": "python",
      "pygments_lexer": "ipython3",
      "version": "3.11.7"
    }
  },
  "nbformat": 4,
  "nbformat_minor": 0
}