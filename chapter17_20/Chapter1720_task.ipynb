{
  "cells": [
    {
      "cell_type": "markdown",
      "metadata": {
        "id": "aLkxKxnFLowa"
      },
      "source": [
        "안녕하세요. 수강생 여러분~! Chapter17 ~ 20 수업은 잘 들으셨나요?\n",
        "\n",
        "Chapter17 ~ 20의 수업 내용을 바탕으로 아래 문제를 풀어주시면 됩니다.\n",
        "\n",
        "\n",
        "<br>\n",
        "\n",
        "\n",
        "[**답변 입력 방법**]\n",
        "\n",
        "문제 아래에 있는 코드 입력창에 정답코드를 작성하신 후  __▷ 버튼을 클릭해 코드를 실행__ 해보세요<br>"
      ]
    },
    {
      "cell_type": "markdown",
      "metadata": {
        "id": "pYJ1dSggLwcG"
      },
      "source": [
        "__[문제1]__\n",
        "\n",
        "print_even 리스트 내에 있는 값 중 짝수만 화면에 출력되도록 print_score 함수를 생성 후 결과값을 출력해주세요\n",
        "\n",
        "print_even ([1, 3, 2, 10, 12, 11, 15])"
      ]
    },
    {
      "cell_type": "code",
      "execution_count": 2,
      "metadata": {
        "id": "PTqEeebbLmCA",
        "colab": {
          "base_uri": "https://localhost:8080/"
        },
        "outputId": "ea1c5fd7-6214-47da-ac74-d9db84490446"
      },
      "outputs": [
        {
          "output_type": "stream",
          "name": "stdout",
          "text": [
            "[2, 10, 12]\n"
          ]
        }
      ],
      "source": [
        "\n",
        "# 짝수 추출 기능\n",
        "def print_score(list):\n",
        "    # 짝수로 걸러진 값의 저장 공간\n",
        "    empList = []\n",
        "\n",
        "    # 매개변수 안에 짝수만 empList 로 저장\n",
        "    for i in list:\n",
        "        if i % 2 == 0:\n",
        "            empList.append(i)\n",
        "    return empList\n",
        "\n",
        "print_even = ([1, 3, 2, 10, 12, 11, 15])\n",
        "print(print_score(print_even))"
      ]
    },
    {
      "cell_type": "markdown",
      "metadata": {
        "id": "ID96xekfpufd"
      },
      "source": [
        "---"
      ]
    },
    {
      "cell_type": "markdown",
      "metadata": {
        "id": "ZkGserEsQS0L"
      },
      "source": [
        "__[문제2]__\n",
        "\n",
        "비어있는 오즈 (oz) 클래스를 \"정의\" 해보세요."
      ]
    },
    {
      "cell_type": "code",
      "execution_count": 32,
      "metadata": {
        "id": "dJbcWWlwL0iK"
      },
      "outputs": [],
      "source": [
        "# 완전히 비어있는 모습 텅텅\n",
        "class Oz:\n",
        "    pass\n"
      ]
    },
    {
      "cell_type": "markdown",
      "metadata": {
        "id": "U4mSZyFQpufd"
      },
      "source": [
        "---"
      ]
    },
    {
      "cell_type": "markdown",
      "metadata": {
        "id": "Ofy86rZfL1Mg"
      },
      "source": [
        "__[문제3]__\n",
        "\n",
        "오즈(oz) 클래스의 인스턴스를 \"생성\" 하고 이를 coding 변수로 할당해보세요."
      ]
    },
    {
      "cell_type": "code",
      "execution_count": 33,
      "metadata": {
        "id": "5NhWiuULL2Xa"
      },
      "outputs": [],
      "source": [
        "coding = Oz()"
      ]
    },
    {
      "cell_type": "markdown",
      "metadata": {
        "id": "S1EsIM6zpufe"
      },
      "source": [
        "---"
      ]
    },
    {
      "cell_type": "markdown",
      "metadata": {
        "id": "5T6EMx8EL26b"
      },
      "source": [
        "[문제4]\n",
        "\n",
        "오즈(oz) 클래스에 \"클래스 정복\"을 출력하는 기본 생성자를 추가해주세요"
      ]
    },
    {
      "cell_type": "code",
      "execution_count": 39,
      "metadata": {
        "id": "Zq35PXA0L3-m",
        "colab": {
          "base_uri": "https://localhost:8080/"
        },
        "outputId": "d52c64d7-a6cf-48e3-b7e4-1278407a6e45"
      },
      "outputs": [
        {
          "output_type": "stream",
          "name": "stdout",
          "text": [
            "클래스 정복\n"
          ]
        }
      ],
      "source": [
        "class Oz:\n",
        "    def __init__(self):\n",
        "        print(\"클래스 정복\")\n",
        "\n",
        "coding = Oz()\n"
      ]
    },
    {
      "cell_type": "markdown",
      "metadata": {
        "id": "4eIcJLfUpuff"
      },
      "source": [
        "---"
      ]
    },
    {
      "cell_type": "markdown",
      "metadata": {
        "id": "htuycQWSL4l-"
      },
      "source": [
        "__[문제5]__\n",
        "\n",
        "오즈 (oz) 클래스에 (이름, 나이, 코딩레벨)을 받는 생성자를 추가해주세요\n",
        "\n",
        "coding = oz(\"김코\", 30, \"A\")\n"
      ]
    },
    {
      "cell_type": "code",
      "execution_count": 41,
      "metadata": {
        "id": "A7h3I8CWL5ox"
      },
      "outputs": [],
      "source": [
        "class Oz:\n",
        "    def __init__(self, name, age, coding_lv):\n",
        "        self.name = name\n",
        "        self.age = age\n",
        "        self.coding_lv = coding_lv\n",
        "\n",
        "coding = Oz(\"김코\", 30, \"A\")"
      ]
    },
    {
      "cell_type": "markdown",
      "metadata": {
        "id": "S17NbtIzpuff"
      },
      "source": [
        "---"
      ]
    },
    {
      "cell_type": "markdown",
      "metadata": {
        "id": "ZGDLHI5xL6Bd"
      },
      "source": [
        "__[문제6]__\n",
        "\n",
        "5번 문제에서 생성한 인스턴스의 이름, 나이, 코딩레벨을 출력해주세요.\n",
        "\n",
        "\n",
        "\n",
        "출력 결과  ) <br>\n",
        "이름 : 김코  \n",
        "나이 : 30  \n",
        "코딩레벨 : A  \n",
        "\n",
        "__Tips__\n",
        "\n",
        "\n",
        "- 인스턴스 변수에 접근하여 값을 출력하면 됩니다  : )"
      ]
    },
    {
      "cell_type": "code",
      "execution_count": 42,
      "metadata": {
        "id": "qCrPejI_L8Wr",
        "colab": {
          "base_uri": "https://localhost:8080/"
        },
        "outputId": "c30435fa-7fe9-4efe-be7c-cf581b7f0aaf"
      },
      "outputs": [
        {
          "output_type": "stream",
          "name": "stdout",
          "text": [
            "이름 : 김코\n",
            "나이 : 30\n",
            "코딩레벨 : A\n"
          ]
        }
      ],
      "source": [
        "print(f'이름 : {coding.name}\\n나이 : {coding.age}\\n코딩레벨 : {coding.coding_lv}')"
      ]
    },
    {
      "cell_type": "markdown",
      "metadata": {
        "id": "DX2Zpowypuff"
      },
      "source": [
        "---"
      ]
    },
    {
      "cell_type": "markdown",
      "metadata": {
        "id": "RmtPk-A1L8z4"
      },
      "source": [
        "__[문제7]__\n",
        "\n",
        "오즈 (oz) 클래스에서 이름, 나이, 코딩레벨을 출력하는 who() 메소드를 추가하고 who()메소드를 이용해 아래 출력 결과를 만들어주세요\n",
        "\n",
        "\n",
        "출력 결과 ) <br>\n",
        "이름: 김코, 나이: 30, 코딩레벨: A"
      ]
    },
    {
      "cell_type": "code",
      "execution_count": 45,
      "metadata": {
        "id": "fvrvm87vL_HZ",
        "colab": {
          "base_uri": "https://localhost:8080/"
        },
        "outputId": "a0443d25-a8b9-485d-a0b3-b5858f7adba3"
      },
      "outputs": [
        {
          "output_type": "stream",
          "name": "stdout",
          "text": [
            "이름: 김코, 나이: 30, 코딩레벨: A\n"
          ]
        }
      ],
      "source": [
        "class Oz:\n",
        "    def __init__(self, name, age, coding_lv):\n",
        "        self.name = name\n",
        "        self.age = age\n",
        "        self.coding_lv = coding_lv\n",
        "\n",
        "    def who(self):\n",
        "        print(f'이름: {self.name}, 나이: {self.age}, 코딩레벨: {self.coding_lv}')\n",
        "\n",
        "coding = Oz(\"김코\", 30, \"A\")\n",
        "coding.who()\n"
      ]
    }
  ],
  "metadata": {
    "colab": {
      "provenance": []
    },
    "kernelspec": {
      "display_name": "Python 3",
      "name": "python3"
    },
    "language_info": {
      "codemirror_mode": {
        "name": "ipython",
        "version": 3
      },
      "file_extension": ".py",
      "mimetype": "text/x-python",
      "name": "python",
      "nbconvert_exporter": "python",
      "pygments_lexer": "ipython3",
      "version": "3.11.7"
    }
  },
  "nbformat": 4,
  "nbformat_minor": 0
}